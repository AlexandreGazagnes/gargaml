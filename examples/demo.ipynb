{
 "cells": [
  {
   "cell_type": "markdown",
   "id": "d7d29ece",
   "metadata": {},
   "source": [
    "# INTRO"
   ]
  },
  {
   "cell_type": "markdown",
   "id": "88ea8078",
   "metadata": {},
   "source": []
  },
  {
   "cell_type": "code",
   "execution_count": 1,
   "id": "2225098d",
   "metadata": {
    "ExecuteTime": {
     "end_time": "2022-03-25T08:02:34.130423Z",
     "start_time": "2022-03-25T08:02:34.102306Z"
    }
   },
   "outputs": [
    {
     "data": {
      "text/plain": [
       "'/home/alex/gargaml/examples'"
      ]
     },
     "execution_count": 1,
     "metadata": {},
     "output_type": "execute_result"
    }
   ],
   "source": [
    "pwd"
   ]
  },
  {
   "cell_type": "code",
   "execution_count": 2,
   "id": "fdf97a30",
   "metadata": {},
   "outputs": [
    {
     "name": "stdout",
     "output_type": "stream",
     "text": [
      "/home/alex/gargaml\n"
     ]
    }
   ],
   "source": [
    "cd .."
   ]
  },
  {
   "cell_type": "code",
   "execution_count": 3,
   "id": "d3246999",
   "metadata": {},
   "outputs": [
    {
     "name": "stdout",
     "output_type": "stream",
     "text": [
      "\u001b[0m\u001b[01;34mbuild\u001b[0m/  \u001b[01;34mdocs\u001b[0m/  \u001b[01;34mexamples\u001b[0m/  \u001b[01;34mgargaml.egg-info\u001b[0m/  README.md         setup.py  \u001b[01;34mutils\u001b[0m/\n",
      "\u001b[01;34mdist\u001b[0m/   \u001b[01;34menv\u001b[0m/   \u001b[01;34mgargaml\u001b[0m/   LICENSE            requirements.txt  \u001b[01;34mtests\u001b[0m/\n"
     ]
    }
   ],
   "source": [
    "ls"
   ]
  },
  {
   "cell_type": "code",
   "execution_count": 4,
   "id": "d58bb594",
   "metadata": {
    "ExecuteTime": {
     "end_time": "2022-03-25T08:02:36.642069Z",
     "start_time": "2022-03-25T08:02:36.629326Z"
    }
   },
   "outputs": [],
   "source": [
    "import gargaml"
   ]
  },
  {
   "cell_type": "code",
   "execution_count": 5,
   "id": "c69df5cf",
   "metadata": {
    "ExecuteTime": {
     "end_time": "2022-03-24T13:12:18.809154Z",
     "start_time": "2022-03-24T13:12:18.805853Z"
    }
   },
   "outputs": [
    {
     "data": {
      "text/plain": [
       "'/home/alex/gargaml'"
      ]
     },
     "execution_count": 5,
     "metadata": {},
     "output_type": "execute_result"
    }
   ],
   "source": [
    "pwd"
   ]
  },
  {
   "cell_type": "code",
   "execution_count": null,
   "id": "86b6ed04",
   "metadata": {
    "ExecuteTime": {
     "end_time": "2022-03-24T13:12:20.168035Z",
     "start_time": "2022-03-24T13:12:18.810702Z"
    }
   },
   "outputs": [],
   "source": []
  },
  {
   "cell_type": "code",
   "execution_count": null,
   "id": "793f666f",
   "metadata": {
    "ExecuteTime": {
     "end_time": "2022-03-24T13:12:20.172585Z",
     "start_time": "2022-03-24T13:12:20.169417Z"
    }
   },
   "outputs": [],
   "source": [
    "# pd.DataFrame"
   ]
  },
  {
   "cell_type": "code",
   "execution_count": null,
   "id": "24b47c11",
   "metadata": {
    "ExecuteTime": {
     "end_time": "2022-03-24T13:12:20.195322Z",
     "start_time": "2022-03-24T13:12:20.174117Z"
    }
   },
   "outputs": [],
   "source": [
    "df = Loads.boston(X_y=False)\n",
    "X,y = Loads.boston(X_y=True)"
   ]
  },
  {
   "cell_type": "code",
   "execution_count": null,
   "id": "8aca876f",
   "metadata": {},
   "outputs": [],
   "source": [
    "df"
   ]
  },
  {
   "cell_type": "code",
   "execution_count": null,
   "id": "59248ab2",
   "metadata": {},
   "outputs": [],
   "source": [
    "X"
   ]
  },
  {
   "cell_type": "code",
   "execution_count": null,
   "id": "491e6286",
   "metadata": {},
   "outputs": [],
   "source": [
    "y"
   ]
  },
  {
   "cell_type": "code",
   "execution_count": null,
   "id": "9e5b6b9d",
   "metadata": {},
   "outputs": [],
   "source": [
    "df = Loads.titanic()\n",
    "df"
   ]
  },
  {
   "cell_type": "code",
   "execution_count": null,
   "id": "cf44e258",
   "metadata": {},
   "outputs": [],
   "source": []
  },
  {
   "cell_type": "markdown",
   "id": "561869ba",
   "metadata": {},
   "source": [
    "# EDA"
   ]
  },
  {
   "cell_type": "markdown",
   "id": "676e9d0f",
   "metadata": {},
   "source": []
  },
  {
   "cell_type": "code",
   "execution_count": null,
   "id": "02f1b535",
   "metadata": {
    "ExecuteTime": {
     "end_time": "2022-03-24T13:12:20.247423Z",
     "start_time": "2022-03-24T13:12:20.196648Z"
    }
   },
   "outputs": [],
   "source": [
    "EDA.first_tour.display(df)"
   ]
  },
  {
   "cell_type": "code",
   "execution_count": null,
   "id": "4fa9384c",
   "metadata": {
    "ExecuteTime": {
     "end_time": "2022-03-24T13:12:20.272634Z",
     "start_time": "2022-03-24T13:12:20.250179Z"
    }
   },
   "outputs": [],
   "source": [
    "EDA.first_tour.info(df)"
   ]
  },
  {
   "cell_type": "code",
   "execution_count": null,
   "id": "29215659",
   "metadata": {
    "ExecuteTime": {
     "end_time": "2022-03-24T13:12:20.319040Z",
     "start_time": "2022-03-24T13:12:20.274088Z"
    }
   },
   "outputs": [],
   "source": [
    "EDA.first_tour.desribe(df)"
   ]
  },
  {
   "cell_type": "code",
   "execution_count": null,
   "id": "95cb8893",
   "metadata": {
    "ExecuteTime": {
     "end_time": "2022-03-24T13:12:20.836161Z",
     "start_time": "2022-03-24T13:12:20.320221Z"
    }
   },
   "outputs": [],
   "source": [
    "EDA.corr.plot(df)"
   ]
  },
  {
   "cell_type": "markdown",
   "id": "2c30b7ad",
   "metadata": {},
   "source": []
  },
  {
   "cell_type": "markdown",
   "id": "ec0da4c5",
   "metadata": {},
   "source": [
    "# FIRST MODELISATION"
   ]
  },
  {
   "cell_type": "code",
   "execution_count": null,
   "id": "3b0ae171",
   "metadata": {},
   "outputs": [],
   "source": [
    "df = Loads.titanic()\n",
    "df"
   ]
  },
  {
   "cell_type": "code",
   "execution_count": null,
   "id": "4f58aad0",
   "metadata": {},
   "outputs": [],
   "source": [
    "X = df.drop(columns=\"Survived\")\n",
    "X"
   ]
  },
  {
   "cell_type": "code",
   "execution_count": null,
   "id": "58ebb24f",
   "metadata": {},
   "outputs": [],
   "source": []
  },
  {
   "cell_type": "code",
   "execution_count": null,
   "id": "a197d177",
   "metadata": {},
   "outputs": [],
   "source": [
    "y=df.Survived"
   ]
  },
  {
   "cell_type": "code",
   "execution_count": null,
   "id": "aee38914",
   "metadata": {
    "ExecuteTime": {
     "end_time": "2022-03-24T13:47:33.799193Z",
     "start_time": "2022-03-24T13:47:33.762802Z"
    }
   },
   "outputs": [],
   "source": [
    "grid = GridSearchCV(DummyRegressor(), \n",
    "                    param_grid={}, \n",
    "                    cv=StratifiedShuffleSplit(n_splits=10, test_size=0.3), \n",
    "                    return_train_score=True, \n",
    "                    verbose=2)\n",
    "grid.fit(X,y)\n",
    "res = ML.resultize(grid)\n",
    "res"
   ]
  },
  {
   "cell_type": "code",
   "execution_count": null,
   "id": "e4f3bbfc",
   "metadata": {},
   "outputs": [],
   "source": [
    "res.dtypes"
   ]
  },
  {
   "cell_type": "markdown",
   "id": "18b77bca",
   "metadata": {},
   "source": [
    "# MODELISATION ADVANCED"
   ]
  },
  {
   "cell_type": "code",
   "execution_count": null,
   "id": "bb317011",
   "metadata": {
    "ExecuteTime": {
     "end_time": "2022-03-24T13:41:30.509451Z",
     "start_time": "2022-03-24T13:41:30.503744Z"
    }
   },
   "outputs": [],
   "source": [
    "pst = \"passthrough\"\n",
    "pipeline = Pipeline(\n",
    "    [\n",
    "        (\"imputer\", pst),\n",
    "        (\"preprocessor\", pst ),\n",
    "        (\"scaler\", pst),\n",
    "        (\"reductor\", pst),\n",
    "        (\"estimator\", DummyClassifier()), \n",
    "\n",
    "    ]\n",
    ")\n",
    "\n",
    "pipeline"
   ]
  },
  {
   "cell_type": "code",
   "execution_count": null,
   "id": "7c6685aa",
   "metadata": {},
   "outputs": [],
   "source": [
    "param_grid = {\n",
    "\n",
    "    \"imputer\" :[\"passthrough\",] ,\n",
    "    \"preprocessor\" :[\"passthrough\",] ,\n",
    "    \"scaler\" : [\"passthrough\",],\n",
    "    \"reductor\" :[\"passthrough\",] ,\n",
    "    \"estimator\": [LGBMClassifier(), ], \n",
    "\n",
    "    }\n",
    "param_grid"
   ]
  },
  {
   "cell_type": "code",
   "execution_count": null,
   "id": "20110ef5",
   "metadata": {},
   "outputs": [],
   "source": [
    "p1  = ColumnTransformer(\n",
    "        transformers=[\n",
    "            (\"num\", \"passthrough\", make_column_selector(dtype_include=np.number))\n",
    "            ], \n",
    "        remainder=\"drop\")\n",
    "\n",
    "p2  = ColumnTransformer(\n",
    "        transformers=[\n",
    "            (\"onehot\", OneHotEncoder(handle_unknown=\"ignore\", dtype=int), make_column_selector(dtype_include=object))\n",
    "            ], \n",
    "        remainder=\"drop\")"
   ]
  },
  {
   "cell_type": "code",
   "execution_count": null,
   "id": "bdc34cd1",
   "metadata": {},
   "outputs": [],
   "source": [
    "param_grid = {\n",
    "    \"imputer\" :[\n",
    "        \"passthrough\",\n",
    "        SimpleImputer(strategy=\"median\"),\n",
    "        KNNImputer(n_neighbors=3),\n",
    "        KNNImputer(n_neighbors=5),\n",
    "        KNNImputer(n_neighbors=10),\n",
    "        KNNImputer(n_neighbors=15)\n",
    "        ] ,\n",
    "    \"preprocessor\" : [\n",
    "        \"passthrough\",\n",
    "        p1, \n",
    "        p2\n",
    "        ] ,\n",
    "    \"scaler\" : [\n",
    "        \"passthrough\",\n",
    "        StandardScaler(),\n",
    "        MinMaxScaler(),\n",
    "        Normalizer(),\n",
    "        RobustScaler(),\n",
    "        QuantileTransformer(n_quantiles=100),\n",
    "        QuantileTransformer(n_quantiles=10)\n",
    "        ],\n",
    "    \"reductor\" :[\n",
    "        \"passthrough\",\n",
    "        ] ,\n",
    "    \"estimator\": [\n",
    "        LGBMClassifier(), \n",
    "        ], \n",
    "    }\n",
    "\n",
    "param_grid"
   ]
  },
  {
   "cell_type": "code",
   "execution_count": null,
   "id": "0df1d697",
   "metadata": {
    "ExecuteTime": {
     "end_time": "2022-03-24T13:12:20.852126Z",
     "start_time": "2022-03-24T13:12:20.844658Z"
    }
   },
   "outputs": [],
   "source": [
    "grid = GridSearchCV(pipeline, \n",
    "                    param_grid=param_grid, \n",
    "                    cv=StratifiedShuffleSplit(n_splits=10, test_size=0.3), \n",
    "                    return_train_score=True, \n",
    "                    verbose=2)\n",
    "grid.fit(X,y)\n",
    "res = ML.resultize(grid)\n",
    "res"
   ]
  },
  {
   "cell_type": "code",
   "execution_count": null,
   "id": "1a2e341f",
   "metadata": {
    "ExecuteTime": {
     "end_time": "2022-03-24T13:12:20.857777Z",
     "start_time": "2022-03-24T13:12:20.853430Z"
    }
   },
   "outputs": [],
   "source": [
    "\"\"\"\n",
    "processor  = ColumnTransformer(\n",
    "    transformers=[(\"num\", \"passthrough\", make_column_selector(dtype_include=np.number))], \n",
    "    remainder=\"drop\")\n",
    "\n",
    "tmp = processor.fit_transform(test)\n",
    "pd.DataFrame(tmp)\n",
    "\"\"\"\n",
    "\n",
    "\n",
    "\"\"\"\n",
    "processor  = ColumnTransformer(\n",
    "    transformers=[(\"onehot\", OneHotEncoder(handle_unknown=\"ignore\", dtype=int), make_column_selector(dtype_include=object))], \n",
    "    remainder=\"drop\")\n",
    "\n",
    "tmp = processor.fit_transform(test)\n",
    "pd.DataFrame(tmp)\n",
    "\"\"\"\n",
    "\n",
    "\"\"\"\n",
    "processor  = ColumnTransformer(\n",
    "    transformers=[(\"onehot\", OneHotEncoder(handle_unknown=\"ignore\"), make_column_selector(dtype_include=object))], \n",
    "    remainder=\"passthrough\")\n",
    "\n",
    "tmp = processor.fit_transform(test)\n",
    "pd.DataFrame(tmp)\n",
    "\"\"\""
   ]
  },
  {
   "cell_type": "code",
   "execution_count": null,
   "id": "645fcf5b",
   "metadata": {
    "ExecuteTime": {
     "end_time": "2022-03-24T13:12:20.863207Z",
     "start_time": "2022-03-24T13:12:20.859298Z"
    }
   },
   "outputs": [],
   "source": [
    "\"\"\"\n",
    "numeric_transformer = Pipeline(\n",
    "    steps=[(\"imputer\", SimpleImputer(strategy=\"median\")), \n",
    "           (\"log1p\", FunctionTransformer(np.log1p))]\n",
    ")\n",
    "\n",
    "categorical_transformer = OneHotEncoder(handle_unknown=\"ignore\")\n",
    "\n",
    "preprocessor = ColumnTransformer(\n",
    "    transformers=[\n",
    "        (\"num\", numeric_transformer, make_column_selector(dtype_include=float)),\n",
    "        (\"cat\", categorical_transformer, make_column_selector(dtype_include=object))], \n",
    "    remainder=\"passthrough\")\n",
    "    \"\"\"\n",
    "\n",
    "\"\"\"\n",
    "numeric_transformer = Pipeline(\n",
    "    steps=[(\"imputer\", SimpleImputer(strategy=\"median\"))]\n",
    ")\n",
    "\n",
    "\n",
    "preprocessor_numb = ColumnTransformer(\n",
    "    transformers=[\n",
    "        (\"num\", numeric_transformer, make_column_selector(dtype_include=np.number))],\n",
    "    remainder=\"drop\")\n",
    "tmp = preprocessor_numb.fit_transform(test)\n",
    "pd.DataFrame(tmp)\n",
    "\"\"\""
   ]
  },
  {
   "cell_type": "code",
   "execution_count": null,
   "id": "2405c03b",
   "metadata": {
    "ExecuteTime": {
     "end_time": "2022-03-24T13:12:20.867520Z",
     "start_time": "2022-03-24T13:12:20.864570Z"
    }
   },
   "outputs": [],
   "source": [
    "\"\"\"\n",
    "# processor_numb\n",
    "processor_numb = ColumnTransformer(\n",
    "    transformers=[\n",
    "        (\"onlyNum\", \"passthrough\", make_column_selector(dtype_include=np.number))],\n",
    "    remainder=\"drop\")\n",
    "\n",
    "\n",
    "# processor_hot\n",
    "processor_hot = ColumnTransformer(\n",
    "    transformers=[\n",
    "        (\"numOnehot\", OneHotEncoder(handle_unknown=\"ignore\"), make_column_selector(dtype_include=object))], \n",
    "    remainder=\"passthrough\")\n",
    "\n",
    "\n",
    "# processor_hot_log\n",
    "processor_hot_log = ColumnTransformer(\n",
    "    transformers=[\n",
    "        (\"floatLog1p\", FunctionTransformer(np.log1p), make_column_selector(dtype_include=float)),\n",
    "        (\"onehot\", categorical_transformer, make_column_selector(dtype_include=object))], \n",
    "    remainder=\"passthrough\")\n",
    "\n",
    "\n",
    "\"\"\"\n",
    "\"\"\"\n",
    "float_tr = Pipeline(\n",
    "    steps=[(\"imputer\", SimpleImputer(strategy=\"median\")), \n",
    "           (\"log1p\", FunctionTransformer(np.log1p))]\n",
    ")\n",
    "\n",
    "int_tr = Pipeline(\n",
    "    steps=[(\"imputer\", SimpleImputer(strategy=\"median\"))])\n",
    "\n",
    "cat_tr = OneHotEncoder(handle_unknown=\"ignore\")\n",
    "\n",
    "#processor_hot_log_impute\n",
    "processor_hot_log_impute = ColumnTransformer(\n",
    "    transformers=[\n",
    "        (\"floatImputeLlog1p\", float_tr, make_column_selector(dtype_include=float)),\n",
    "        (\"onehot\", cat_tr, make_column_selector(dtype_include=object)), \n",
    "        (\"intImpute\", int_tr, make_column_selector(dtype_include=int))],\n",
    "\n",
    "    remainder=\"passthrough\")\n",
    "    \"\"\"\n",
    "\n"
   ]
  },
  {
   "cell_type": "code",
   "execution_count": null,
   "id": "46c4ea56",
   "metadata": {
    "ExecuteTime": {
     "end_time": "2022-03-24T13:12:20.873697Z",
     "start_time": "2022-03-24T13:12:20.868637Z"
    }
   },
   "outputs": [],
   "source": [
    "com = compose\n",
    "pre = preprocessing\n",
    "\n",
    "\n",
    "log_all_processor  = com.ColumnTransformer(\n",
    "    transformers=[(\"log1p\", pre.FunctionTransformer(np.log1p), com.make_column_selector(dtype_include=np.number))], \n",
    "    remainder=\"passthrough\")\n",
    "\n",
    "preprocessing_list=[\"passthrough\", log_all_processor]\n",
    "preprocessing_list"
   ]
  },
  {
   "cell_type": "code",
   "execution_count": null,
   "id": "96536864",
   "metadata": {
    "ExecuteTime": {
     "end_time": "2022-03-24T13:12:20.882519Z",
     "start_time": "2022-03-24T13:12:20.875404Z"
    }
   },
   "outputs": [],
   "source": [
    "param_grid={\n",
    "                \"preprocessing\" : preprocessing_list,\n",
    "                \"scaler\" : scaler_list,\n",
    "                \"estimator\" : estimator_list        }\n",
    "param_grid"
   ]
  },
  {
   "cell_type": "code",
   "execution_count": null,
   "id": "9eef6448",
   "metadata": {
    "ExecuteTime": {
     "end_time": "2022-03-24T13:12:20.887486Z",
     "start_time": "2022-03-24T13:12:20.883744Z"
    }
   },
   "outputs": [],
   "source": [
    "pipe = pipeline.Pipeline([\n",
    "    (\"preprocessing\", \"passthrough\"),\n",
    "    (\"scaler\", \"passthrough\"),\n",
    "    (\"estimator\", linear_model.LinearRegression())\n",
    "])\n",
    "pipe"
   ]
  },
  {
   "cell_type": "code",
   "execution_count": null,
   "id": "25cf1c26",
   "metadata": {
    "ExecuteTime": {
     "end_time": "2022-03-24T13:12:23.422089Z",
     "start_time": "2022-03-24T13:12:20.888511Z"
    }
   },
   "outputs": [],
   "source": [
    "grid = model_selection.GridSearchCV(pipe, param_grid=param_grid, cv=10, return_train_score=True, verbose=4)\n",
    "grid.fit(X,y)\n",
    "res = ML.resultize(grid)\n"
   ]
  },
  {
   "cell_type": "code",
   "execution_count": null,
   "id": "100d5a2a",
   "metadata": {
    "ExecuteTime": {
     "end_time": "2022-03-24T13:12:23.541351Z",
     "start_time": "2022-03-24T13:12:23.423281Z"
    }
   },
   "outputs": [],
   "source": [
    "res"
   ]
  },
  {
   "cell_type": "code",
   "execution_count": null,
   "id": "392e74d7",
   "metadata": {
    "ExecuteTime": {
     "end_time": "2022-03-24T13:12:23.551039Z",
     "start_time": "2022-03-24T13:12:23.542395Z"
    }
   },
   "outputs": [],
   "source": [
    "grid.best_estimator_"
   ]
  },
  {
   "cell_type": "code",
   "execution_count": null,
   "id": "9d15816b",
   "metadata": {},
   "outputs": [],
   "source": []
  },
  {
   "cell_type": "code",
   "execution_count": null,
   "id": "67db32e1",
   "metadata": {},
   "outputs": [],
   "source": []
  }
 ],
 "metadata": {
  "hide_input": false,
  "kernelspec": {
   "display_name": "env",
   "language": "python",
   "name": "python3"
  },
  "language_info": {
   "codemirror_mode": {
    "name": "ipython",
    "version": 3
   },
   "file_extension": ".py",
   "mimetype": "text/x-python",
   "name": "python",
   "nbconvert_exporter": "python",
   "pygments_lexer": "ipython3",
   "version": "3.8.4"
  },
  "vscode": {
   "interpreter": {
    "hash": "90888629e184d1d83dcac18ada7cfabe6087e4d52330dcc8dcea5972745896aa"
   }
  }
 },
 "nbformat": 4,
 "nbformat_minor": 5
}
