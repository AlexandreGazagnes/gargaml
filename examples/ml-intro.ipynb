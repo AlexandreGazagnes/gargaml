{
 "cells": [
  {
   "cell_type": "code",
   "execution_count": 1,
   "metadata": {},
   "outputs": [
    {
     "data": {
      "text/plain": [
       "'/home/alex/gargaml/examples'"
      ]
     },
     "execution_count": 1,
     "metadata": {},
     "output_type": "execute_result"
    }
   ],
   "source": [
    "pwd"
   ]
  },
  {
   "cell_type": "code",
   "execution_count": 2,
   "metadata": {},
   "outputs": [
    {
     "name": "stdout",
     "output_type": "stream",
     "text": [
      "/home/alex/gargaml\n"
     ]
    }
   ],
   "source": [
    "cd ..\n"
   ]
  },
  {
   "cell_type": "code",
   "execution_count": 3,
   "metadata": {},
   "outputs": [
    {
     "name": "stderr",
     "output_type": "stream",
     "text": [
      "/home/alex/Desktop/openclassroom/mentorat/nidal_DAPY/OC_P4_CHESS_GAME/env/lib/python3.6/site-packages/pandas/compat/__init__.py:120: UserWarning: Could not import the lzma module. Your installed Python is incomplete. Attempting to use lzma compression will result in a RuntimeError.\n",
      "  warnings.warn(msg)\n"
     ]
    },
    {
     "ename": "ModuleNotFoundError",
     "evalue": "No module named 'pandarallel'",
     "output_type": "error",
     "traceback": [
      "\u001b[0;31m---------------------------------------------------------------------------\u001b[0m",
      "\u001b[0;31mModuleNotFoundError\u001b[0m                       Traceback (most recent call last)",
      "\u001b[0;32m<ipython-input-3-1cb050b16450>\u001b[0m in \u001b[0;36m<module>\u001b[0;34m\u001b[0m\n\u001b[0;32m----> 1\u001b[0;31m \u001b[0;32mimport\u001b[0m \u001b[0mgargaml\u001b[0m\u001b[0;34m\u001b[0m\u001b[0;34m\u001b[0m\u001b[0m\n\u001b[0m\u001b[1;32m      2\u001b[0m \u001b[0;32mfrom\u001b[0m \u001b[0mgargaml\u001b[0m \u001b[0;32mimport\u001b[0m \u001b[0;34m*\u001b[0m\u001b[0;34m\u001b[0m\u001b[0;34m\u001b[0m\u001b[0m\n\u001b[1;32m      3\u001b[0m \u001b[0;32mfrom\u001b[0m \u001b[0mgargaml\u001b[0m \u001b[0;32mimport\u001b[0m \u001b[0mData\u001b[0m\u001b[0;34m\u001b[0m\u001b[0;34m\u001b[0m\u001b[0m\n",
      "\u001b[0;32m~/gargaml/gargaml/__init__.py\u001b[0m in \u001b[0;36m<module>\u001b[0;34m\u001b[0m\n\u001b[1;32m      1\u001b[0m \u001b[0;32mimport\u001b[0m \u001b[0mos\u001b[0m\u001b[0;34m,\u001b[0m \u001b[0msys\u001b[0m\u001b[0;34m,\u001b[0m \u001b[0mlogging\u001b[0m\u001b[0;34m\u001b[0m\u001b[0;34m\u001b[0m\u001b[0m\n\u001b[1;32m      2\u001b[0m \u001b[0;34m\u001b[0m\u001b[0m\n\u001b[0;32m----> 3\u001b[0;31m \u001b[0;32mfrom\u001b[0m \u001b[0mgargaml\u001b[0m\u001b[0;34m.\u001b[0m\u001b[0mimports\u001b[0m \u001b[0;32mimport\u001b[0m \u001b[0;34m*\u001b[0m\u001b[0;34m\u001b[0m\u001b[0;34m\u001b[0m\u001b[0m\n\u001b[0m\u001b[1;32m      4\u001b[0m \u001b[0;34m\u001b[0m\u001b[0m\n\u001b[1;32m      5\u001b[0m \u001b[0;32mfrom\u001b[0m \u001b[0mgargaml\u001b[0m\u001b[0;34m.\u001b[0m\u001b[0mbuild_\u001b[0m \u001b[0;32mimport\u001b[0m \u001b[0mBuild\u001b[0m\u001b[0;34m\u001b[0m\u001b[0;34m\u001b[0m\u001b[0m\n",
      "\u001b[0;32m~/gargaml/gargaml/imports.py\u001b[0m in \u001b[0;36m<module>\u001b[0;34m\u001b[0m\n\u001b[1;32m     20\u001b[0m \u001b[0;31m# import dataprep\u001b[0m\u001b[0;34m\u001b[0m\u001b[0;34m\u001b[0m\u001b[0;34m\u001b[0m\u001b[0m\n\u001b[1;32m     21\u001b[0m \u001b[0;31m# from dataprep.datasets import load_dataset\u001b[0m\u001b[0;34m\u001b[0m\u001b[0;34m\u001b[0m\u001b[0;34m\u001b[0m\u001b[0m\n\u001b[0;32m---> 22\u001b[0;31m \u001b[0;32mfrom\u001b[0m \u001b[0mpandarallel\u001b[0m \u001b[0;32mimport\u001b[0m \u001b[0mpandarallel\u001b[0m\u001b[0;34m\u001b[0m\u001b[0;34m\u001b[0m\u001b[0m\n\u001b[0m\u001b[1;32m     23\u001b[0m \u001b[0;34m\u001b[0m\u001b[0m\n\u001b[1;32m     24\u001b[0m \u001b[0;34m\u001b[0m\u001b[0m\n",
      "\u001b[0;31mModuleNotFoundError\u001b[0m: No module named 'pandarallel'"
     ]
    }
   ],
   "source": [
    "import gargaml \n",
    "from gargaml import * \n",
    "from gargaml import Data"
   ]
  },
  {
   "cell_type": "code",
   "execution_count": null,
   "metadata": {},
   "outputs": [],
   "source": [
    "X, y = Data().Load.titanic(True, precleaning=True)"
   ]
  },
  {
   "cell_type": "code",
   "execution_count": null,
   "metadata": {},
   "outputs": [],
   "source": [
    "X.drop(columns=\"passengerid\", inplace=True)\n",
    "X.sample(10)\n"
   ]
  },
  {
   "cell_type": "code",
   "execution_count": null,
   "metadata": {},
   "outputs": [],
   "source": [
    "y"
   ]
  },
  {
   "cell_type": "code",
   "execution_count": null,
   "metadata": {},
   "outputs": [],
   "source": [
    "X.info()"
   ]
  },
  {
   "cell_type": "code",
   "execution_count": null,
   "metadata": {},
   "outputs": [],
   "source": [
    "msno.matrix(X)"
   ]
  },
  {
   "cell_type": "code",
   "execution_count": null,
   "metadata": {},
   "outputs": [],
   "source": [
    "X.select_dtypes(include=np.number).corr().round(1)\n"
   ]
  },
  {
   "cell_type": "code",
   "execution_count": null,
   "metadata": {},
   "outputs": [],
   "source": [
    "X_train, X_test, y_train, y_test =  train_test_split(X, y, test_size=0.3)"
   ]
  },
  {
   "cell_type": "code",
   "execution_count": null,
   "metadata": {},
   "outputs": [],
   "source": [
    "X_train"
   ]
  },
  {
   "cell_type": "code",
   "execution_count": null,
   "metadata": {},
   "outputs": [],
   "source": [
    "y_train"
   ]
  },
  {
   "cell_type": "code",
   "execution_count": null,
   "metadata": {},
   "outputs": [],
   "source": [
    "imputer  = KNNImputer()\n",
    "X_train = imputer.fit_transform(X_train.select_dtypes(include=np.number))\n",
    "X_test = imputer.transform(X_test.select_dtypes(include=np.number))"
   ]
  },
  {
   "cell_type": "code",
   "execution_count": null,
   "metadata": {},
   "outputs": [],
   "source": []
  },
  {
   "cell_type": "code",
   "execution_count": null,
   "metadata": {},
   "outputs": [],
   "source": [
    "estimator = LogisticRegression()\n",
    "estimator.fit(X_train, y_train)"
   ]
  },
  {
   "cell_type": "code",
   "execution_count": null,
   "metadata": {},
   "outputs": [],
   "source": []
  },
  {
   "cell_type": "code",
   "execution_count": null,
   "metadata": {},
   "outputs": [],
   "source": [
    "estimator.score(X_train, y_train)"
   ]
  },
  {
   "cell_type": "code",
   "execution_count": null,
   "metadata": {},
   "outputs": [],
   "source": [
    "estimator.score(X_test, y_test)"
   ]
  },
  {
   "cell_type": "code",
   "execution_count": null,
   "metadata": {},
   "outputs": [],
   "source": [
    "scaler = QuantileTransformer(n_quantiles=100)\n",
    "X_train_sca = scaler.fit_transform(X_train)\n",
    "X_test_sca = scaler.transform(X_test)"
   ]
  },
  {
   "cell_type": "code",
   "execution_count": null,
   "metadata": {},
   "outputs": [],
   "source": [
    "estimator = LogisticRegression()\n",
    "estimator.fit(X_train_sca, y_train)\n",
    "\n",
    "display(estimator.score(X_train_sca, y_train))\n",
    "display(estimator.score(X_test_sca, y_test))"
   ]
  },
  {
   "cell_type": "code",
   "execution_count": null,
   "metadata": {},
   "outputs": [],
   "source": [
    "estimator = LogisticRegression()\n",
    "estimator.fit(X_train_sca, y_train)\n",
    "\n",
    "display(estimator.score(X_train_sca, np.log1p(y_train)))\n",
    "display(estimator.score(X_test_sca, np.log1p(y_test)))"
   ]
  },
  {
   "cell_type": "code",
   "execution_count": null,
   "metadata": {},
   "outputs": [],
   "source": [
    "grid = GridSearchCV(LinearRegression(),{}, cv= 10, n_jobs=-1, verbose=2, return_train_score=True)\n",
    "grid.fit (X, y)"
   ]
  },
  {
   "cell_type": "code",
   "execution_count": null,
   "metadata": {},
   "outputs": [],
   "source": [
    "grid.best_estimator_"
   ]
  },
  {
   "cell_type": "code",
   "execution_count": null,
   "metadata": {},
   "outputs": [],
   "source": [
    "from IPython.display import display\n",
    "\n",
    "display(grid.score(X_train, y_train))\n",
    "display(grid.score(X_test, y_test))"
   ]
  },
  {
   "cell_type": "code",
   "execution_count": null,
   "metadata": {},
   "outputs": [],
   "source": [
    "display(grid.best_estimator_.score(X_train, y_train))\n",
    "display(grid.best_estimator_.score(X_test, y_test))"
   ]
  },
  {
   "cell_type": "code",
   "execution_count": null,
   "metadata": {},
   "outputs": [],
   "source": []
  },
  {
   "cell_type": "code",
   "execution_count": null,
   "metadata": {},
   "outputs": [],
   "source": [
    "grid.cv_results_"
   ]
  },
  {
   "cell_type": "code",
   "execution_count": null,
   "metadata": {},
   "outputs": [],
   "source": [
    "res = pd.DataFrame(grid.cv_results_).round(2)\n",
    "cols = [i for i in res.columns if \"split\" not in i ]\n",
    "res = res.loc[:, cols]\n",
    "res"
   ]
  },
  {
   "cell_type": "code",
   "execution_count": null,
   "metadata": {},
   "outputs": [],
   "source": [
    "def resultize(grid) : \n",
    "\n",
    "    res = pd.DataFrame(grid.cv_results_).round(2)\n",
    "    cols = [i for i in res.columns if \"split\" not in i ]\n",
    "    res = res.loc[:, cols]\n",
    "    return res\n",
    "\n",
    "\n",
    "resultize(grid)\n"
   ]
  },
  {
   "cell_type": "code",
   "execution_count": null,
   "metadata": {},
   "outputs": [],
   "source": [
    "df = {\"montant\"  : [100_000,  80_000, 30_000, 1_000, 30_000], \n",
    "      \"PB_remb\"  : [       0,     1,      0,     0,     1 ], \n",
    "      \"age\"      : np.random.randint(20, 100, size=5), \n",
    "      \"salary_m\" :  [10_000,  1_000,  1_500,  1_000, 500 ]}\n",
    "df = pd.DataFrame(df)"
   ]
  },
  {
   "cell_type": "code",
   "execution_count": null,
   "metadata": {},
   "outputs": [],
   "source": [
    "df"
   ]
  },
  {
   "cell_type": "code",
   "execution_count": null,
   "metadata": {},
   "outputs": [],
   "source": [
    "li1 = [1,2,3, 4, 5]\n",
    "li2 = [\"a\", \"b\", \"c\", \"d\", \"e\"]\n",
    "li3 = [True, False, True, False, True]\n",
    "zz = zip(li1, li2, li3)"
   ]
  },
  {
   "cell_type": "code",
   "execution_count": null,
   "metadata": {},
   "outputs": [],
   "source": [
    "zz"
   ]
  },
  {
   "cell_type": "code",
   "execution_count": null,
   "metadata": {},
   "outputs": [],
   "source": [
    "list(zz)"
   ]
  },
  {
   "cell_type": "code",
   "execution_count": null,
   "metadata": {},
   "outputs": [],
   "source": [
    "def calcul_PNL(df, model, y_true, tx=0.03, pc_remb=0.25, predict_proba_threshold=0.5) : \n",
    "\n",
    "\n",
    "    # DF ......\n",
    "    # on part du df\n",
    "\n",
    "    # et on a des operations\n",
    "\n",
    "    # et on obtien X\n",
    "    X \n",
    "    \n",
    "    \n",
    "    # NA PAS FIT ICI !!!!!!!! \n",
    "    probas = model.predict_proba(X)\n",
    "\n",
    "\n",
    "    # UTLISER LE threshold de proba POUR OVERWRITE la décision\n",
    "    probas = [ i[0] for i in probas]\n",
    "    y_pred = [(1 if i >predict_proba_threshold else 0) for i in probas]\n",
    "\n",
    "    # (amount= df.montant, y_true=df.PB_remb, predict_proba_threshold=threshold)\n",
    "    \"\"\"calcul pnl \"\"\"\n",
    "\n",
    "    # traite les vars\n",
    "    amount_list = df.amount.values\n",
    "    y_pred_list = y_pred.values\n",
    "    y_true_list = y_true.values\n",
    "    assert len(amount_list) == len(y_pred_list) == len(y_true_list)     # check des longueurs\n",
    "\n",
    "    pnl_list = []     # calcul _pnl = aregnt gagne / perdu  pour chaque individu\n",
    "    for _amount, _y_pred,  _y_true in   zip(amount_list, y_pred_list, y_true_list) : \n",
    "        if _y_pred : #  y_pred == 1 # on ne donne pas pre\n",
    "            pnl_list.append(0)\n",
    "        else :  # on accorde le pret y_pred == 0\n",
    "            if not _y_true :  # _y_true == 0  =y_pred == y_true, on ne fait pas d'erruer on gagne de largent\n",
    "                _pnl = _amount * tx\n",
    "                pnl_list.append(_pnl)\n",
    "            else:  # y_true == 1 or y_pred == 0 on caccode un pret non remb\n",
    "                _pnl = -_amount + (pc_remb * _amount)\n",
    "                pnl_list.append(_pnl)\n",
    "\n",
    "    # display(pnl_list)\n",
    "    return sum(pnl_list)"
   ]
  },
  {
   "cell_type": "code",
   "execution_count": null,
   "metadata": {},
   "outputs": [],
   "source": [
    "# pred parfaite \n",
    "\n",
    "y_pred =df.PB_remb\n",
    "calcul_PNL(amount= df.montant, y_pred=y_pred, y_true=df.PB_remb)\n"
   ]
  },
  {
   "cell_type": "code",
   "execution_count": null,
   "metadata": {},
   "outputs": [],
   "source": []
  },
  {
   "cell_type": "code",
   "execution_count": null,
   "metadata": {},
   "outputs": [],
   "source": [
    "# LE COUAR\n",
    "y_pred = pd.Series([1,1,1,1,1])\n",
    "\n",
    "calcul_PNL(amount= df.montant, y_pred=y_pred, y_true=df.PB_remb)\n"
   ]
  },
  {
   "cell_type": "code",
   "execution_count": null,
   "metadata": {},
   "outputs": [],
   "source": [
    "# LE FAIBLE\n",
    "y_pred = pd.Series([0,0,0,0,0])\n",
    "calcul_PNL(amount= df.montant, y_pred=y_pred, y_true=df.PB_remb)"
   ]
  },
  {
   "cell_type": "code",
   "execution_count": null,
   "metadata": {},
   "outputs": [],
   "source": [
    "# LE NUL\n",
    "y_pred = pd.Series([1,0,1,1,0])\n",
    "calcul_PNL(amount= df.montant, y_pred=y_pred, y_true=df.PB_remb)"
   ]
  },
  {
   "cell_type": "code",
   "execution_count": null,
   "metadata": {},
   "outputs": [],
   "source": [
    "li_scenario  = [\n",
    "    (\"nul\",pd.Series([1,0,1,1,0]) ), \n",
    "    (\"faible\",  pd.Series([0,0,0,0,0])), \n",
    "    (\"couard\", pd.Series([1,1,1,1,1])), \n",
    "    (\"parfaite\", df.PB_remb), \n",
    "    (\"moyen\", pd.Series([0, 0, 0, 1, 1]) )\n",
    "]\n",
    "\n",
    "results = [] \n",
    "for threshold in np.linspace(0.4, 0.6, 50) : \n",
    "    for name, y_pred in li_scenario : \n",
    "        pnl = calcul_PNL(amount= df.montant, y_true=df.PB_remb, predict_proba_threshold=threshold)\n",
    "\n",
    "        var = [name, pnl, threshold]\n",
    "        results.append(var)"
   ]
  },
  {
   "cell_type": "code",
   "execution_count": null,
   "metadata": {},
   "outputs": [],
   "source": [
    "results"
   ]
  },
  {
   "cell_type": "code",
   "execution_count": null,
   "metadata": {},
   "outputs": [],
   "source": [
    "res = pd.DataFrame(results, columns=[\"nom\", \"pnl\", \"predict_proba_trheshold\"])"
   ]
  },
  {
   "cell_type": "code",
   "execution_count": null,
   "metadata": {},
   "outputs": [],
   "source": [
    "res"
   ]
  },
  {
   "cell_type": "code",
   "execution_count": null,
   "metadata": {},
   "outputs": [],
   "source": [
    "np.linspace(0.4, 0.6, 50)"
   ]
  },
  {
   "cell_type": "code",
   "execution_count": null,
   "metadata": {},
   "outputs": [],
   "source": [
    "import plotly.express as px\n",
    "res.columns"
   ]
  },
  {
   "cell_type": "code",
   "execution_count": null,
   "metadata": {},
   "outputs": [],
   "source": [
    "px.scatter(res, color=\"nom\", y=\"pnl\",  x=\"tx\")"
   ]
  },
  {
   "cell_type": "code",
   "execution_count": null,
   "metadata": {},
   "outputs": [],
   "source": [
    "px.box(res, x=\"nom\", y=\"pnl\", color=\"tx\")"
   ]
  },
  {
   "cell_type": "code",
   "execution_count": null,
   "metadata": {},
   "outputs": [],
   "source": [
    "predict_proba() ==> [pTrue, pFalse]\n",
    "\n",
    "\n",
    "if pTrue > 0..0"
   ]
  }
 ],
 "metadata": {
  "kernelspec": {
   "display_name": "env",
   "language": "python",
   "name": "python3"
  },
  "language_info": {
   "codemirror_mode": {
    "name": "ipython",
    "version": 3
   },
   "file_extension": ".py",
   "mimetype": "text/x-python",
   "name": "python",
   "nbconvert_exporter": "python",
   "pygments_lexer": "ipython3",
   "version": "3.6.12"
  },
  "orig_nbformat": 4,
  "vscode": {
   "interpreter": {
    "hash": "158c7b908bbbf72569dcf1ed5c7babefd3aaea9d427d013c3ec7ca09da295dc4"
   }
  }
 },
 "nbformat": 4,
 "nbformat_minor": 2
}
