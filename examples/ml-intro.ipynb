{
 "cells": [
  {
   "cell_type": "code",
   "execution_count": 1,
   "metadata": {},
   "outputs": [
    {
     "data": {
      "text/plain": [
       "'/home/alex/gargaml/examples'"
      ]
     },
     "execution_count": 1,
     "metadata": {},
     "output_type": "execute_result"
    }
   ],
   "source": [
    "pwd"
   ]
  },
  {
   "cell_type": "code",
   "execution_count": 2,
   "metadata": {},
   "outputs": [
    {
     "name": "stdout",
     "output_type": "stream",
     "text": [
      "/home/alex/gargaml\n"
     ]
    }
   ],
   "source": [
    "cd ..\n"
   ]
  },
  {
   "cell_type": "code",
   "execution_count": 3,
   "metadata": {},
   "outputs": [
    {
     "name": "stderr",
     "output_type": "stream",
     "text": [
      "WARNING:root:path is /home/alex/gargaml\n"
     ]
    }
   ],
   "source": [
    "import gargaml\n",
    "from gargaml import *\n",
    "from gargaml import Data"
   ]
  },
  {
   "cell_type": "code",
   "execution_count": 4,
   "metadata": {},
   "outputs": [],
   "source": [
    "X, y = Data().Load.titanic(True, precleaning=True)"
   ]
  },
  {
   "cell_type": "code",
   "execution_count": 5,
   "metadata": {},
   "outputs": [
    {
     "data": {
      "text/html": [
       "<div>\n",
       "<style scoped>\n",
       "    .dataframe tbody tr th:only-of-type {\n",
       "        vertical-align: middle;\n",
       "    }\n",
       "\n",
       "    .dataframe tbody tr th {\n",
       "        vertical-align: top;\n",
       "    }\n",
       "\n",
       "    .dataframe thead th {\n",
       "        text-align: right;\n",
       "    }\n",
       "</style>\n",
       "<table border=\"1\" class=\"dataframe\">\n",
       "  <thead>\n",
       "    <tr style=\"text-align: right;\">\n",
       "      <th></th>\n",
       "      <th>sex</th>\n",
       "      <th>embarked</th>\n",
       "      <th>pclass</th>\n",
       "      <th>age</th>\n",
       "      <th>sibsp</th>\n",
       "      <th>parch</th>\n",
       "      <th>fare</th>\n",
       "    </tr>\n",
       "  </thead>\n",
       "  <tbody>\n",
       "    <tr>\n",
       "      <th>218</th>\n",
       "      <td>female</td>\n",
       "      <td>C</td>\n",
       "      <td>1</td>\n",
       "      <td>32.0</td>\n",
       "      <td>0</td>\n",
       "      <td>0</td>\n",
       "      <td>76.2917</td>\n",
       "    </tr>\n",
       "    <tr>\n",
       "      <th>870</th>\n",
       "      <td>male</td>\n",
       "      <td>S</td>\n",
       "      <td>3</td>\n",
       "      <td>26.0</td>\n",
       "      <td>0</td>\n",
       "      <td>0</td>\n",
       "      <td>7.8958</td>\n",
       "    </tr>\n",
       "    <tr>\n",
       "      <th>274</th>\n",
       "      <td>female</td>\n",
       "      <td>Q</td>\n",
       "      <td>3</td>\n",
       "      <td>NaN</td>\n",
       "      <td>0</td>\n",
       "      <td>0</td>\n",
       "      <td>7.7500</td>\n",
       "    </tr>\n",
       "    <tr>\n",
       "      <th>432</th>\n",
       "      <td>female</td>\n",
       "      <td>S</td>\n",
       "      <td>2</td>\n",
       "      <td>42.0</td>\n",
       "      <td>1</td>\n",
       "      <td>0</td>\n",
       "      <td>26.0000</td>\n",
       "    </tr>\n",
       "    <tr>\n",
       "      <th>848</th>\n",
       "      <td>male</td>\n",
       "      <td>S</td>\n",
       "      <td>2</td>\n",
       "      <td>28.0</td>\n",
       "      <td>0</td>\n",
       "      <td>1</td>\n",
       "      <td>33.0000</td>\n",
       "    </tr>\n",
       "    <tr>\n",
       "      <th>215</th>\n",
       "      <td>female</td>\n",
       "      <td>C</td>\n",
       "      <td>1</td>\n",
       "      <td>31.0</td>\n",
       "      <td>1</td>\n",
       "      <td>0</td>\n",
       "      <td>113.2750</td>\n",
       "    </tr>\n",
       "    <tr>\n",
       "      <th>609</th>\n",
       "      <td>female</td>\n",
       "      <td>S</td>\n",
       "      <td>1</td>\n",
       "      <td>40.0</td>\n",
       "      <td>0</td>\n",
       "      <td>0</td>\n",
       "      <td>153.4625</td>\n",
       "    </tr>\n",
       "    <tr>\n",
       "      <th>695</th>\n",
       "      <td>male</td>\n",
       "      <td>S</td>\n",
       "      <td>2</td>\n",
       "      <td>52.0</td>\n",
       "      <td>0</td>\n",
       "      <td>0</td>\n",
       "      <td>13.5000</td>\n",
       "    </tr>\n",
       "    <tr>\n",
       "      <th>45</th>\n",
       "      <td>male</td>\n",
       "      <td>S</td>\n",
       "      <td>3</td>\n",
       "      <td>NaN</td>\n",
       "      <td>0</td>\n",
       "      <td>0</td>\n",
       "      <td>8.0500</td>\n",
       "    </tr>\n",
       "    <tr>\n",
       "      <th>678</th>\n",
       "      <td>female</td>\n",
       "      <td>S</td>\n",
       "      <td>3</td>\n",
       "      <td>43.0</td>\n",
       "      <td>1</td>\n",
       "      <td>6</td>\n",
       "      <td>46.9000</td>\n",
       "    </tr>\n",
       "  </tbody>\n",
       "</table>\n",
       "</div>"
      ],
      "text/plain": [
       "        sex embarked  pclass   age  sibsp  parch      fare\n",
       "218  female        C       1  32.0      0      0   76.2917\n",
       "870    male        S       3  26.0      0      0    7.8958\n",
       "274  female        Q       3   NaN      0      0    7.7500\n",
       "432  female        S       2  42.0      1      0   26.0000\n",
       "848    male        S       2  28.0      0      1   33.0000\n",
       "215  female        C       1  31.0      1      0  113.2750\n",
       "609  female        S       1  40.0      0      0  153.4625\n",
       "695    male        S       2  52.0      0      0   13.5000\n",
       "45     male        S       3   NaN      0      0    8.0500\n",
       "678  female        S       3  43.0      1      6   46.9000"
      ]
     },
     "execution_count": 5,
     "metadata": {},
     "output_type": "execute_result"
    }
   ],
   "source": [
    "X.drop(columns=\"passengerid\", inplace=True)\n",
    "X.sample(10)"
   ]
  },
  {
   "cell_type": "code",
   "execution_count": 6,
   "metadata": {},
   "outputs": [
    {
     "data": {
      "text/plain": [
       "0      0\n",
       "1      1\n",
       "2      1\n",
       "3      1\n",
       "4      0\n",
       "      ..\n",
       "886    0\n",
       "887    1\n",
       "888    0\n",
       "889    1\n",
       "890    0\n",
       "Name: survived, Length: 891, dtype: int64"
      ]
     },
     "execution_count": 6,
     "metadata": {},
     "output_type": "execute_result"
    }
   ],
   "source": [
    "y"
   ]
  },
  {
   "cell_type": "code",
   "execution_count": 7,
   "metadata": {},
   "outputs": [
    {
     "data": {
      "text/plain": [
       "survived\n",
       "0    0.62\n",
       "1    0.38\n",
       "Name: proportion, dtype: float64"
      ]
     },
     "execution_count": 7,
     "metadata": {},
     "output_type": "execute_result"
    }
   ],
   "source": [
    "y.value_counts(normalize=True).round(2)"
   ]
  },
  {
   "cell_type": "code",
   "execution_count": 8,
   "metadata": {},
   "outputs": [
    {
     "name": "stdout",
     "output_type": "stream",
     "text": [
      "<class 'pandas.core.frame.DataFrame'>\n",
      "Index: 891 entries, 0 to 890\n",
      "Data columns (total 7 columns):\n",
      " #   Column    Non-Null Count  Dtype  \n",
      "---  ------    --------------  -----  \n",
      " 0   sex       891 non-null    object \n",
      " 1   embarked  889 non-null    object \n",
      " 2   pclass    891 non-null    int64  \n",
      " 3   age       714 non-null    float64\n",
      " 4   sibsp     891 non-null    int64  \n",
      " 5   parch     891 non-null    int64  \n",
      " 6   fare      891 non-null    float64\n",
      "dtypes: float64(2), int64(3), object(2)\n",
      "memory usage: 55.7+ KB\n"
     ]
    }
   ],
   "source": [
    "X.info()"
   ]
  },
  {
   "cell_type": "code",
   "execution_count": 9,
   "metadata": {},
   "outputs": [
    {
     "data": {
      "text/plain": [
       "<Axes: >"
      ]
     },
     "execution_count": 9,
     "metadata": {},
     "output_type": "execute_result"
    },
    {
     "data": {
      "image/png": "[encoded data removed]",
      "text/plain": [
       "<Figure size 2500x1000 with 2 Axes>"
      ]
     },
     "metadata": {},
     "output_type": "display_data"
    }
   ],
   "source": [
    "msno.matrix(X)"
   ]
  },
  {
   "cell_type": "code",
   "execution_count": 10,
   "metadata": {},
   "outputs": [
    {
     "data": {
      "text/html": [
       "<div>\n",
       "<style scoped>\n",
       "    .dataframe tbody tr th:only-of-type {\n",
       "        vertical-align: middle;\n",
       "    }\n",
       "\n",
       "    .dataframe tbody tr th {\n",
       "        vertical-align: top;\n",
       "    }\n",
       "\n",
       "    .dataframe thead th {\n",
       "        text-align: right;\n",
       "    }\n",
       "</style>\n",
       "<table border=\"1\" class=\"dataframe\">\n",
       "  <thead>\n",
       "    <tr style=\"text-align: right;\">\n",
       "      <th></th>\n",
       "      <th>pclass</th>\n",
       "      <th>age</th>\n",
       "      <th>sibsp</th>\n",
       "      <th>parch</th>\n",
       "      <th>fare</th>\n",
       "      <th>fare_by_age</th>\n",
       "      <th>fare_by_pclass</th>\n",
       "      <th>fare_null</th>\n",
       "      <th>age_is_nan</th>\n",
       "    </tr>\n",
       "  </thead>\n",
       "  <tbody>\n",
       "    <tr>\n",
       "      <th>count</th>\n",
       "      <td>891.000000</td>\n",
       "      <td>714.000000</td>\n",
       "      <td>891.000000</td>\n",
       "      <td>891.000000</td>\n",
       "      <td>891.000000</td>\n",
       "      <td>714.000000</td>\n",
       "      <td>891.000000</td>\n",
       "      <td>891.000000</td>\n",
       "      <td>891.000000</td>\n",
       "    </tr>\n",
       "    <tr>\n",
       "      <th>mean</th>\n",
       "      <td>2.308642</td>\n",
       "      <td>29.699118</td>\n",
       "      <td>0.523008</td>\n",
       "      <td>0.381594</td>\n",
       "      <td>32.204208</td>\n",
       "      <td>2.391841</td>\n",
       "      <td>25.046650</td>\n",
       "      <td>0.016835</td>\n",
       "      <td>0.198653</td>\n",
       "    </tr>\n",
       "    <tr>\n",
       "      <th>std</th>\n",
       "      <td>0.836071</td>\n",
       "      <td>14.526497</td>\n",
       "      <td>1.102743</td>\n",
       "      <td>0.806057</td>\n",
       "      <td>49.693429</td>\n",
       "      <td>8.115102</td>\n",
       "      <td>51.245594</td>\n",
       "      <td>0.128725</td>\n",
       "      <td>0.399210</td>\n",
       "    </tr>\n",
       "    <tr>\n",
       "      <th>min</th>\n",
       "      <td>1.000000</td>\n",
       "      <td>0.420000</td>\n",
       "      <td>0.000000</td>\n",
       "      <td>0.000000</td>\n",
       "      <td>0.000000</td>\n",
       "      <td>0.000000</td>\n",
       "      <td>0.000000</td>\n",
       "      <td>0.000000</td>\n",
       "      <td>0.000000</td>\n",
       "    </tr>\n",
       "    <tr>\n",
       "      <th>25%</th>\n",
       "      <td>2.000000</td>\n",
       "      <td>20.125000</td>\n",
       "      <td>0.000000</td>\n",
       "      <td>0.000000</td>\n",
       "      <td>7.910400</td>\n",
       "      <td>0.342403</td>\n",
       "      <td>2.641667</td>\n",
       "      <td>0.000000</td>\n",
       "      <td>0.000000</td>\n",
       "    </tr>\n",
       "    <tr>\n",
       "      <th>50%</th>\n",
       "      <td>3.000000</td>\n",
       "      <td>28.000000</td>\n",
       "      <td>0.000000</td>\n",
       "      <td>0.000000</td>\n",
       "      <td>14.454200</td>\n",
       "      <td>0.565217</td>\n",
       "      <td>6.325000</td>\n",
       "      <td>0.000000</td>\n",
       "      <td>0.000000</td>\n",
       "    </tr>\n",
       "    <tr>\n",
       "      <th>75%</th>\n",
       "      <td>3.000000</td>\n",
       "      <td>38.000000</td>\n",
       "      <td>1.000000</td>\n",
       "      <td>0.000000</td>\n",
       "      <td>31.000000</td>\n",
       "      <td>1.673857</td>\n",
       "      <td>23.183333</td>\n",
       "      <td>0.000000</td>\n",
       "      <td>0.000000</td>\n",
       "    </tr>\n",
       "    <tr>\n",
       "      <th>max</th>\n",
       "      <td>3.000000</td>\n",
       "      <td>80.000000</td>\n",
       "      <td>8.000000</td>\n",
       "      <td>6.000000</td>\n",
       "      <td>512.329200</td>\n",
       "      <td>164.728261</td>\n",
       "      <td>512.329200</td>\n",
       "      <td>1.000000</td>\n",
       "      <td>1.000000</td>\n",
       "    </tr>\n",
       "  </tbody>\n",
       "</table>\n",
       "</div>"
      ],
      "text/plain": [
       "           pclass         age       sibsp       parch        fare   \n",
       "count  891.000000  714.000000  891.000000  891.000000  891.000000  \\\n",
       "mean     2.308642   29.699118    0.523008    0.381594   32.204208   \n",
       "std      0.836071   14.526497    1.102743    0.806057   49.693429   \n",
       "min      1.000000    0.420000    0.000000    0.000000    0.000000   \n",
       "25%      2.000000   20.125000    0.000000    0.000000    7.910400   \n",
       "50%      3.000000   28.000000    0.000000    0.000000   14.454200   \n",
       "75%      3.000000   38.000000    1.000000    0.000000   31.000000   \n",
       "max      3.000000   80.000000    8.000000    6.000000  512.329200   \n",
       "\n",
       "       fare_by_age  fare_by_pclass   fare_null  age_is_nan  \n",
       "count   714.000000      891.000000  891.000000  891.000000  \n",
       "mean      2.391841       25.046650    0.016835    0.198653  \n",
       "std       8.115102       51.245594    0.128725    0.399210  \n",
       "min       0.000000        0.000000    0.000000    0.000000  \n",
       "25%       0.342403        2.641667    0.000000    0.000000  \n",
       "50%       0.565217        6.325000    0.000000    0.000000  \n",
       "75%       1.673857       23.183333    0.000000    0.000000  \n",
       "max     164.728261      512.329200    1.000000    1.000000  "
      ]
     },
     "execution_count": 10,
     "metadata": {},
     "output_type": "execute_result"
    }
   ],
   "source": [
    "X[\"fare_by_age\"] = X.fare/ X.age\n",
    "X[\"fare_by_pclass\"] = X.fare/X.pclass \n",
    "X[\"fare_null\"] = (X.fare == 0).astype(int)\n",
    "X[\"age_is_nan\"] = X.age.isna().astype(int)\n",
    "X.describe()"
   ]
  },
  {
   "cell_type": "code",
   "execution_count": 13,
   "metadata": {},
   "outputs": [
    {
     "data": {
      "text/plain": [
       "array([ 1,  1,  1,  1,  1,  1,  1, -1,  1,  1, -1,  1,  1,  1,  1,  1, -1,\n",
       "        1,  1,  1,  1,  1,  1,  1,  1,  1,  1, -1,  1,  1,  1, -1,  1,  1,\n",
       "        1,  1,  1,  1,  1,  1,  1,  1,  1, -1,  1,  1,  1,  1, -1,  1, -1,\n",
       "        1,  1,  1,  1,  1,  1,  1, -1, -1,  1,  1,  1, -1,  1,  1,  1,  1,\n",
       "        1,  1,  1,  1,  1,  1,  1,  1,  1,  1, -1,  1,  1,  1,  1,  1,  1,\n",
       "        1,  1,  1, -1,  1,  1,  1,  1,  1,  1,  1,  1,  1,  1,  1,  1,  1,\n",
       "        1,  1,  1,  1,  1,  1,  1,  1,  1,  1,  1,  1,  1,  1,  1,  1, -1,\n",
       "       -1,  1,  1,  1,  1,  1,  1,  1,  1,  1,  1,  1,  1,  1,  1,  1,  1,\n",
       "        1,  1,  1,  1, -1,  1,  1,  1,  1,  1,  1,  1,  1,  1,  1,  1,  1,\n",
       "        1,  1,  1,  1,  1,  1,  1,  1,  1,  1,  1, -1,  1,  1,  1,  1,  1,\n",
       "        1, -1, -1,  1,  1,  1, -1,  1,  1,  1,  1,  1,  1, -1, -1,  1,  1,\n",
       "        1,  1,  1,  1,  1,  1, -1,  1, -1,  1,  1,  1,  1,  1,  1,  1,  1,\n",
       "        1, -1,  1,  1,  1,  1,  1,  1,  1,  1,  1,  1,  1,  1,  1,  1,  1,\n",
       "        1,  1,  1,  1,  1,  1,  1,  1, -1,  1,  1,  1, -1,  1,  1,  1,  1,\n",
       "        1,  1,  1,  1,  1,  1,  1,  1,  1,  1,  1,  1,  1,  1,  1,  1,  1,\n",
       "        1,  1,  1, -1,  1,  1, -1,  1,  1,  1,  1,  1,  1, -1,  1,  1,  1,\n",
       "        1,  1,  1,  1,  1,  1, -1,  1,  1,  1,  1,  1,  1,  1,  1,  1,  1,\n",
       "        1,  1,  1,  1,  1,  1,  1,  1, -1,  1, -1,  1,  1,  1,  1,  1, -1,\n",
       "        1, -1,  1,  1,  1, -1,  1,  1,  1,  1,  1,  1,  1,  1,  1,  1,  1,\n",
       "        1,  1,  1,  1,  1,  1,  1,  1,  1,  1,  1,  1,  1,  1,  1,  1,  1,\n",
       "       -1, -1,  1,  1,  1,  1,  1,  1, -1,  1,  1,  1,  1,  1,  1,  1,  1,\n",
       "        1,  1,  1,  1,  1,  1,  1,  1,  1,  1,  1,  1,  1,  1,  1,  1, -1,\n",
       "       -1,  1,  1, -1,  1,  1, -1, -1,  1,  1,  1,  1, -1,  1,  1,  1,  1,\n",
       "        1,  1,  1,  1,  1,  1,  1,  1,  1,  1,  1,  1,  1,  1,  1,  1, -1,\n",
       "        1, -1,  1,  1,  1,  1,  1,  1,  1,  1,  1,  1,  1,  1,  1,  1,  1,\n",
       "        1,  1,  1,  1,  1,  1,  1,  1,  1,  1, -1,  1,  1, -1,  1,  1,  1,\n",
       "        1,  1,  1, -1,  1,  1, -1,  1,  1,  1,  1,  1,  1,  1,  1,  1,  1,\n",
       "        1,  1,  1,  1,  1,  1,  1,  1,  1,  1, -1,  1,  1,  1,  1,  1,  1,\n",
       "        1,  1,  1, -1, -1,  1,  1,  1,  1, -1,  1,  1,  1,  1,  1,  1,  1,\n",
       "        1,  1,  1,  1,  1,  1,  1,  1,  1,  1,  1, -1, -1,  1,  1,  1,  1,\n",
       "        1,  1,  1,  1,  1,  1,  1,  1,  1,  1,  1,  1,  1,  1,  1,  1,  1,\n",
       "       -1,  1,  1, -1,  1,  1, -1,  1, -1,  1,  1,  1,  1,  1,  1,  1,  1,\n",
       "        1,  1,  1,  1,  1, -1, -1,  1,  1,  1,  1,  1,  1, -1,  1,  1,  1,\n",
       "        1,  1,  1,  1,  1,  1,  1,  1,  1,  1,  1,  1,  1,  1,  1,  1,  1,\n",
       "        1,  1,  1,  1,  1,  1,  1,  1,  1,  1,  1,  1,  1,  1,  1, -1,  1,\n",
       "        1,  1,  1,  1,  1,  1,  1,  1,  1,  1,  1,  1,  1,  1,  1,  1,  1,\n",
       "        1,  1,  1,  1,  1,  1, -1,  1,  1,  1,  1,  1,  1,  1,  1,  1,  1,\n",
       "        1,  1,  1,  1,  1,  1,  1,  1,  1,  1,  1,  1,  1, -1,  1, -1,  1,\n",
       "        1,  1,  1,  1,  1,  1,  1,  1,  1,  1,  1,  1,  1,  1,  1,  1,  1,\n",
       "        1,  1,  1,  1,  1,  1,  1,  1,  1,  1,  1,  1,  1,  1,  1,  1, -1,\n",
       "        1,  1,  1,  1,  1,  1,  1,  1,  1, -1,  1, -1,  1,  1,  1,  1,  1,\n",
       "        1,  1,  1, -1,  1,  1,  1,  1,  1,  1,  1, -1,  1,  1,  1,  1,  1,\n",
       "        1,  1, -1,  1,  1,  1, -1,  1,  1,  1,  1,  1,  1,  1,  1,  1, -1,\n",
       "        1,  1,  1,  1,  1,  1, -1,  1,  1,  1,  1, -1,  1,  1,  1,  1,  1,\n",
       "        1,  1, -1,  1,  1,  1,  1, -1,  1,  1,  1,  1,  1,  1,  1,  1,  1,\n",
       "        1,  1,  1,  1,  1,  1,  1,  1,  1,  1,  1,  1,  1,  1, -1,  1,  1,\n",
       "        1,  1,  1,  1,  1, -1, -1,  1,  1,  1,  1,  1,  1,  1,  1,  1,  1,\n",
       "        1,  1,  1, -1, -1,  1,  1,  1,  1,  1,  1,  1,  1,  1, -1,  1,  1,\n",
       "        1,  1,  1,  1,  1,  1,  1,  1, -1,  1,  1, -1,  1,  1,  1, -1,  1,\n",
       "        1,  1,  1,  1,  1,  1,  1,  1,  1,  1,  1,  1,  1,  1,  1,  1,  1,\n",
       "       -1,  1,  1,  1,  1,  1,  1,  1,  1,  1,  1,  1,  1,  1,  1,  1,  1,\n",
       "        1,  1,  1,  1,  1,  1,  1,  1,  1,  1,  1,  1,  1,  1,  1,  1,  1,\n",
       "        1,  1,  1,  1,  1,  1,  1])"
      ]
     },
     "execution_count": 13,
     "metadata": {},
     "output_type": "execute_result"
    }
   ],
   "source": []
  },
  {
   "cell_type": "code",
   "execution_count": 14,
   "metadata": {},
   "outputs": [
    {
     "data": {
      "text/plain": [
       " 1    0.9\n",
       "-1    0.1\n",
       "Name: proportion, dtype: float64"
      ]
     },
     "execution_count": 14,
     "metadata": {},
     "output_type": "execute_result"
    }
   ],
   "source": []
  },
  {
   "cell_type": "code",
   "execution_count": 39,
   "metadata": {},
   "outputs": [
    {
     "data": {
      "text/plain": [
       "array([ 1,  1,  1,  1,  1,  1,  1, -1,  1,  1,  1,  1,  1, -1,  1,  1, -1,\n",
       "        1,  1,  1,  1,  1,  1,  1,  1, -1,  1, -1,  1,  1,  1, -1,  1,  1,\n",
       "        1,  1,  1,  1,  1,  1,  1,  1,  1, -1,  1,  1,  1,  1, -1,  1, -1,\n",
       "        1,  1,  1, -1, -1,  1,  1,  1, -1,  1,  1,  1,  1,  1,  1,  1,  1,\n",
       "        1,  1,  1, -1,  1,  1,  1,  1,  1,  1, -1,  1,  1,  1,  1,  1,  1,\n",
       "        1,  1,  1, -1,  1,  1,  1,  1,  1,  1,  1,  1,  1,  1,  1,  1,  1,\n",
       "        1,  1,  1,  1,  1,  1,  1,  1,  1,  1,  1,  1,  1,  1,  1,  1, -1,\n",
       "       -1, -1,  1,  1,  1,  1,  1,  1,  1,  1,  1,  1,  1,  1,  1,  1,  1,\n",
       "        1,  1,  1,  1, -1,  1,  1,  1,  1,  1,  1,  1,  1,  1,  1,  1,  1,\n",
       "        1,  1,  1,  1,  1,  1, -1,  1,  1,  1,  1, -1,  1, -1, -1,  1,  1,\n",
       "        1, -1,  1,  1,  1,  1, -1,  1,  1, -1, -1,  1,  1, -1,  1, -1,  1,\n",
       "        1,  1,  1,  1,  1,  1,  1,  1, -1,  1,  1,  1,  1,  1, -1,  1,  1,\n",
       "        1,  1,  1,  1,  1,  1,  1,  1,  1,  1,  1,  1,  1,  1,  1,  1,  1,\n",
       "        1,  1,  1,  1,  1,  1,  1,  1, -1,  1,  1,  1, -1,  1,  1,  1,  1,\n",
       "        1,  1,  1,  1,  1,  1,  1, -1,  1,  1,  1,  1,  1,  1,  1,  1,  1,\n",
       "        1, -1,  1, -1,  1,  1, -1,  1, -1,  1,  1, -1,  1, -1,  1,  1, -1,\n",
       "        1,  1,  1,  1,  1, -1,  1,  1,  1,  1,  1,  1,  1,  1,  1,  1,  1,\n",
       "        1,  1,  1,  1,  1,  1,  1,  1, -1,  1, -1,  1,  1, -1,  1,  1, -1,\n",
       "       -1,  1,  1,  1,  1, -1,  1,  1,  1,  1,  1,  1, -1, -1,  1,  1,  1,\n",
       "        1, -1,  1,  1,  1,  1,  1,  1,  1, -1,  1, -1,  1,  1,  1,  1,  1,\n",
       "        1, -1,  1,  1,  1,  1,  1,  1,  1,  1,  1, -1,  1,  1,  1,  1,  1,\n",
       "        1,  1,  1, -1,  1,  1,  1,  1,  1,  1,  1,  1,  1,  1,  1,  1, -1,\n",
       "        1, -1,  1, -1,  1,  1, -1, -1,  1,  1,  1,  1, -1,  1,  1,  1, -1,\n",
       "        1,  1,  1,  1,  1,  1,  1,  1,  1,  1,  1,  1,  1,  1,  1,  1,  1,\n",
       "        1, -1,  1,  1,  1, -1,  1,  1,  1,  1,  1,  1,  1,  1,  1,  1,  1,\n",
       "        1,  1,  1,  1,  1,  1,  1,  1,  1,  1, -1,  1, -1, -1,  1,  1,  1,\n",
       "        1,  1,  1, -1,  1,  1,  1,  1,  1,  1,  1,  1,  1,  1,  1, -1,  1,\n",
       "        1,  1,  1,  1,  1,  1,  1, -1,  1,  1, -1,  1,  1,  1,  1,  1, -1,\n",
       "        1,  1,  1,  1, -1, -1,  1,  1,  1, -1,  1,  1,  1,  1,  1,  1,  1,\n",
       "        1,  1,  1,  1,  1, -1,  1,  1,  1,  1,  1,  1,  1,  1, -1,  1,  1,\n",
       "        1,  1,  1,  1,  1,  1,  1,  1,  1,  1,  1,  1,  1,  1,  1,  1,  1,\n",
       "       -1,  1,  1,  1,  1,  1, -1,  1,  1,  1,  1,  1,  1,  1,  1,  1,  1,\n",
       "        1,  1,  1,  1,  1,  1, -1,  1,  1,  1,  1,  1,  1, -1,  1,  1,  1,\n",
       "        1,  1,  1,  1,  1,  1,  1,  1,  1,  1, -1,  1,  1,  1,  1,  1,  1,\n",
       "        1,  1,  1,  1,  1,  1,  1, -1,  1, -1,  1,  1,  1,  1,  1, -1,  1,\n",
       "        1,  1, -1,  1,  1,  1,  1,  1,  1,  1,  1,  1,  1,  1,  1, -1,  1,\n",
       "        1,  1,  1,  1,  1,  1,  1,  1,  1,  1,  1,  1,  1,  1,  1,  1,  1,\n",
       "        1,  1,  1,  1, -1,  1,  1,  1,  1, -1,  1,  1,  1, -1, -1, -1,  1,\n",
       "        1,  1,  1,  1,  1,  1,  1,  1,  1, -1,  1,  1,  1, -1, -1,  1,  1,\n",
       "        1,  1, -1,  1,  1,  1, -1,  1,  1,  1,  1, -1,  1,  1,  1, -1, -1,\n",
       "        1,  1,  1, -1,  1,  1, -1,  1,  1, -1,  1,  1, -1,  1,  1,  1,  1,\n",
       "        1,  1,  1, -1,  1,  1,  1,  1,  1,  1,  1, -1,  1,  1, -1,  1,  1,\n",
       "        1,  1, -1,  1,  1,  1,  1,  1,  1,  1,  1,  1,  1,  1,  1,  1, -1,\n",
       "        1, -1,  1,  1,  1, -1, -1,  1,  1,  1,  1, -1,  1,  1, -1,  1,  1,\n",
       "        1,  1,  1,  1,  1,  1, -1, -1,  1,  1,  1,  1,  1,  1,  1, -1,  1,\n",
       "        1, -1,  1,  1,  1,  1,  1,  1,  1, -1,  1,  1,  1,  1, -1,  1,  1,\n",
       "        1, -1,  1,  1,  1,  1, -1,  1,  1,  1, -1,  1,  1,  1,  1,  1,  1,\n",
       "        1,  1,  1, -1, -1,  1,  1, -1,  1,  1,  1,  1,  1,  1, -1,  1, -1,\n",
       "        1,  1,  1,  1,  1,  1, -1,  1, -1,  1, -1, -1,  1,  1,  1, -1,  1,\n",
       "        1,  1,  1,  1,  1,  1,  1,  1,  1,  1,  1,  1,  1, -1,  1,  1, -1,\n",
       "       -1,  1,  1,  1,  1,  1, -1,  1,  1,  1,  1,  1,  1, -1,  1,  1,  1,\n",
       "        1,  1,  1,  1,  1,  1,  1,  1,  1,  1,  1,  1,  1,  1,  1,  1,  1,\n",
       "        1, -1,  1,  1, -1,  1,  1])"
      ]
     },
     "execution_count": 39,
     "metadata": {},
     "output_type": "execute_result"
    },
    {
     "name": "stdout",
     "output_type": "stream",
     "text": [
      "\u001b[0;31mInit signature:\u001b[0m\n",
      "\u001b[0mIsolationForest\u001b[0m\u001b[0;34m(\u001b[0m\u001b[0;34m\u001b[0m\n",
      "\u001b[0;34m\u001b[0m    \u001b[0;34m*\u001b[0m\u001b[0;34m,\u001b[0m\u001b[0;34m\u001b[0m\n",
      "\u001b[0;34m\u001b[0m    \u001b[0mn_estimators\u001b[0m\u001b[0;34m=\u001b[0m\u001b[0;36m100\u001b[0m\u001b[0;34m,\u001b[0m\u001b[0;34m\u001b[0m\n",
      "\u001b[0;34m\u001b[0m    \u001b[0mmax_samples\u001b[0m\u001b[0;34m=\u001b[0m\u001b[0;34m'auto'\u001b[0m\u001b[0;34m,\u001b[0m\u001b[0;34m\u001b[0m\n",
      "\u001b[0;34m\u001b[0m    \u001b[0mcontamination\u001b[0m\u001b[0;34m=\u001b[0m\u001b[0;34m'auto'\u001b[0m\u001b[0;34m,\u001b[0m\u001b[0;34m\u001b[0m\n",
      "\u001b[0;34m\u001b[0m    \u001b[0mmax_features\u001b[0m\u001b[0;34m=\u001b[0m\u001b[0;36m1.0\u001b[0m\u001b[0;34m,\u001b[0m\u001b[0;34m\u001b[0m\n",
      "\u001b[0;34m\u001b[0m    \u001b[0mbootstrap\u001b[0m\u001b[0;34m=\u001b[0m\u001b[0;32mFalse\u001b[0m\u001b[0;34m,\u001b[0m\u001b[0;34m\u001b[0m\n",
      "\u001b[0;34m\u001b[0m    \u001b[0mn_jobs\u001b[0m\u001b[0;34m=\u001b[0m\u001b[0;32mNone\u001b[0m\u001b[0;34m,\u001b[0m\u001b[0;34m\u001b[0m\n",
      "\u001b[0;34m\u001b[0m    \u001b[0mrandom_state\u001b[0m\u001b[0;34m=\u001b[0m\u001b[0;32mNone\u001b[0m\u001b[0;34m,\u001b[0m\u001b[0;34m\u001b[0m\n",
      "\u001b[0;34m\u001b[0m    \u001b[0mverbose\u001b[0m\u001b[0;34m=\u001b[0m\u001b[0;36m0\u001b[0m\u001b[0;34m,\u001b[0m\u001b[0;34m\u001b[0m\n",
      "\u001b[0;34m\u001b[0m    \u001b[0mwarm_start\u001b[0m\u001b[0;34m=\u001b[0m\u001b[0;32mFalse\u001b[0m\u001b[0;34m,\u001b[0m\u001b[0;34m\u001b[0m\n",
      "\u001b[0;34m\u001b[0m\u001b[0;34m)\u001b[0m\u001b[0;34m\u001b[0m\u001b[0;34m\u001b[0m\u001b[0m\n",
      "\u001b[0;31mDocstring:\u001b[0m     \n",
      "Isolation Forest Algorithm.\n",
      "\n",
      "Return the anomaly score of each sample using the IsolationForest algorithm\n",
      "\n",
      "The IsolationForest 'isolates' observations by randomly selecting a feature\n",
      "and then randomly selecting a split value between the maximum and minimum\n",
      "values of the selected feature.\n",
      "\n",
      "Since recursive partitioning can be represented by a tree structure, the\n",
      "number of splittings required to isolate a sample is equivalent to the path\n",
      "length from the root node to the terminating node.\n",
      "\n",
      "This path length, averaged over a forest of such random trees, is a\n",
      "measure of normality and our decision function.\n",
      "\n",
      "Random partitioning produces noticeably shorter paths for anomalies.\n",
      "Hence, when a forest of random trees collectively produce shorter path\n",
      "lengths for particular samples, they are highly likely to be anomalies.\n",
      "\n",
      "Read more in the :ref:`User Guide <isolation_forest>`.\n",
      "\n",
      ".. versionadded:: 0.18\n",
      "\n",
      "Parameters\n",
      "----------\n",
      "n_estimators : int, default=100\n",
      "    The number of base estimators in the ensemble.\n",
      "\n",
      "max_samples : \"auto\", int or float, default=\"auto\"\n",
      "    The number of samples to draw from X to train each base estimator.\n",
      "        - If int, then draw `max_samples` samples.\n",
      "        - If float, then draw `max_samples * X.shape[0]` samples.\n",
      "        - If \"auto\", then `max_samples=min(256, n_samples)`.\n",
      "\n",
      "    If max_samples is larger than the number of samples provided,\n",
      "    all samples will be used for all trees (no sampling).\n",
      "\n",
      "contamination : 'auto' or float, default='auto'\n",
      "    The amount of contamination of the data set, i.e. the proportion\n",
      "    of outliers in the data set. Used when fitting to define the threshold\n",
      "    on the scores of the samples.\n",
      "\n",
      "        - If 'auto', the threshold is determined as in the\n",
      "          original paper.\n",
      "        - If float, the contamination should be in the range (0, 0.5].\n",
      "\n",
      "    .. versionchanged:: 0.22\n",
      "       The default value of ``contamination`` changed from 0.1\n",
      "       to ``'auto'``.\n",
      "\n",
      "max_features : int or float, default=1.0\n",
      "    The number of features to draw from X to train each base estimator.\n",
      "\n",
      "        - If int, then draw `max_features` features.\n",
      "        - If float, then draw `max(1, int(max_features * n_features_in_))` features.\n",
      "\n",
      "    Note: using a float number less than 1.0 or integer less than number of\n",
      "    features will enable feature subsampling and leads to a longerr runtime.\n",
      "\n",
      "bootstrap : bool, default=False\n",
      "    If True, individual trees are fit on random subsets of the training\n",
      "    data sampled with replacement. If False, sampling without replacement\n",
      "    is performed.\n",
      "\n",
      "n_jobs : int, default=None\n",
      "    The number of jobs to run in parallel for both :meth:`fit` and\n",
      "    :meth:`predict`. ``None`` means 1 unless in a\n",
      "    :obj:`joblib.parallel_backend` context. ``-1`` means using all\n",
      "    processors. See :term:`Glossary <n_jobs>` for more details.\n",
      "\n",
      "random_state : int, RandomState instance or None, default=None\n",
      "    Controls the pseudo-randomness of the selection of the feature\n",
      "    and split values for each branching step and each tree in the forest.\n",
      "\n",
      "    Pass an int for reproducible results across multiple function calls.\n",
      "    See :term:`Glossary <random_state>`.\n",
      "\n",
      "verbose : int, default=0\n",
      "    Controls the verbosity of the tree building process.\n",
      "\n",
      "warm_start : bool, default=False\n",
      "    When set to ``True``, reuse the solution of the previous call to fit\n",
      "    and add more estimators to the ensemble, otherwise, just fit a whole\n",
      "    new forest. See :term:`the Glossary <warm_start>`.\n",
      "\n",
      "    .. versionadded:: 0.21\n",
      "\n",
      "Attributes\n",
      "----------\n",
      "estimator_ : :class:`~sklearn.tree.ExtraTreeRegressor` instance\n",
      "    The child estimator template used to create the collection of\n",
      "    fitted sub-estimators.\n",
      "\n",
      "    .. versionadded:: 1.2\n",
      "       `base_estimator_` was renamed to `estimator_`.\n",
      "\n",
      "base_estimator_ : ExtraTreeRegressor instance\n",
      "    The child estimator template used to create the collection of\n",
      "    fitted sub-estimators.\n",
      "\n",
      "    .. deprecated:: 1.2\n",
      "        `base_estimator_` is deprecated and will be removed in 1.4.\n",
      "        Use `estimator_` instead.\n",
      "\n",
      "estimators_ : list of ExtraTreeRegressor instances\n",
      "    The collection of fitted sub-estimators.\n",
      "\n",
      "estimators_features_ : list of ndarray\n",
      "    The subset of drawn features for each base estimator.\n",
      "\n",
      "estimators_samples_ : list of ndarray\n",
      "    The subset of drawn samples (i.e., the in-bag samples) for each base\n",
      "    estimator.\n",
      "\n",
      "max_samples_ : int\n",
      "    The actual number of samples.\n",
      "\n",
      "offset_ : float\n",
      "    Offset used to define the decision function from the raw scores. We\n",
      "    have the relation: ``decision_function = score_samples - offset_``.\n",
      "    ``offset_`` is defined as follows. When the contamination parameter is\n",
      "    set to \"auto\", the offset is equal to -0.5 as the scores of inliers are\n",
      "    close to 0 and the scores of outliers are close to -1. When a\n",
      "    contamination parameter different than \"auto\" is provided, the offset\n",
      "    is defined in such a way we obtain the expected number of outliers\n",
      "    (samples with decision function < 0) in training.\n",
      "\n",
      "    .. versionadded:: 0.20\n",
      "\n",
      "n_features_in_ : int\n",
      "    Number of features seen during :term:`fit`.\n",
      "\n",
      "    .. versionadded:: 0.24\n",
      "\n",
      "feature_names_in_ : ndarray of shape (`n_features_in_`,)\n",
      "    Names of features seen during :term:`fit`. Defined only when `X`\n",
      "    has feature names that are all strings.\n",
      "\n",
      "    .. versionadded:: 1.0\n",
      "\n",
      "See Also\n",
      "--------\n",
      "sklearn.covariance.EllipticEnvelope : An object for detecting outliers in a\n",
      "    Gaussian distributed dataset.\n",
      "sklearn.svm.OneClassSVM : Unsupervised Outlier Detection.\n",
      "    Estimate the support of a high-dimensional distribution.\n",
      "    The implementation is based on libsvm.\n",
      "sklearn.neighbors.LocalOutlierFactor : Unsupervised Outlier Detection\n",
      "    using Local Outlier Factor (LOF).\n",
      "\n",
      "Notes\n",
      "-----\n",
      "The implementation is based on an ensemble of ExtraTreeRegressor. The\n",
      "maximum depth of each tree is set to ``ceil(log_2(n))`` where\n",
      ":math:`n` is the number of samples used to build the tree\n",
      "(see (Liu et al., 2008) for more details).\n",
      "\n",
      "References\n",
      "----------\n",
      ".. [1] Liu, Fei Tony, Ting, Kai Ming and Zhou, Zhi-Hua. \"Isolation forest.\"\n",
      "       Data Mining, 2008. ICDM'08. Eighth IEEE International Conference on.\n",
      ".. [2] Liu, Fei Tony, Ting, Kai Ming and Zhou, Zhi-Hua. \"Isolation-based\n",
      "       anomaly detection.\" ACM Transactions on Knowledge Discovery from\n",
      "       Data (TKDD) 6.1 (2012): 3.\n",
      "\n",
      "Examples\n",
      "--------\n",
      ">>> from sklearn.ensemble import IsolationForest\n",
      ">>> X = [[-1.1], [0.3], [0.5], [100]]\n",
      ">>> clf = IsolationForest(random_state=0).fit(X)\n",
      ">>> clf.predict([[0.1], [0], [90]])\n",
      "array([ 1,  1, -1])\n",
      "\u001b[0;31mFile:\u001b[0m           ~/gargaml/env/lib/python3.10/site-packages/sklearn/ensemble/_iforest.py\n",
      "\u001b[0;31mType:\u001b[0m           ABCMeta\n",
      "\u001b[0;31mSubclasses:\u001b[0m     "
     ]
    }
   ],
   "source": [
    "detector = IsolationForest\n",
    "\n",
    "tmp =KNNImputer().fit_transform(X.select_dtypes(np.number))\n",
    "ee = detector.fit_predict(tmp)\n",
    "ee"
   ]
  },
  {
   "cell_type": "code",
   "execution_count": 34,
   "metadata": {},
   "outputs": [
    {
     "data": {
      "text/plain": [
       "0      False\n",
       "1      False\n",
       "2      False\n",
       "3      False\n",
       "4      False\n",
       "       ...  \n",
       "886    False\n",
       "887    False\n",
       "888     True\n",
       "889    False\n",
       "890    False\n",
       "Length: 891, dtype: bool"
      ]
     },
     "execution_count": 34,
     "metadata": {},
     "output_type": "execute_result"
    }
   ],
   "source": [
    "ee = pd.Series(ee).apply(lambda i : False if i==1 else True)\n",
    "ee"
   ]
  },
  {
   "cell_type": "code",
   "execution_count": null,
   "metadata": {},
   "outputs": [],
   "source": []
  },
  {
   "cell_type": "code",
   "execution_count": 35,
   "metadata": {},
   "outputs": [
    {
     "data": {
      "text/html": [
       "<div>\n",
       "<style scoped>\n",
       "    .dataframe tbody tr th:only-of-type {\n",
       "        vertical-align: middle;\n",
       "    }\n",
       "\n",
       "    .dataframe tbody tr th {\n",
       "        vertical-align: top;\n",
       "    }\n",
       "\n",
       "    .dataframe thead th {\n",
       "        text-align: right;\n",
       "    }\n",
       "</style>\n",
       "<table border=\"1\" class=\"dataframe\">\n",
       "  <thead>\n",
       "    <tr style=\"text-align: right;\">\n",
       "      <th></th>\n",
       "      <th>sex</th>\n",
       "      <th>embarked</th>\n",
       "      <th>pclass</th>\n",
       "      <th>age</th>\n",
       "      <th>sibsp</th>\n",
       "      <th>parch</th>\n",
       "      <th>fare</th>\n",
       "      <th>fare_by_age</th>\n",
       "      <th>fare_by_pclass</th>\n",
       "      <th>fare_null</th>\n",
       "      <th>age_is_nan</th>\n",
       "    </tr>\n",
       "  </thead>\n",
       "  <tbody>\n",
       "    <tr>\n",
       "      <th>7</th>\n",
       "      <td>male</td>\n",
       "      <td>S</td>\n",
       "      <td>3</td>\n",
       "      <td>2.0</td>\n",
       "      <td>3</td>\n",
       "      <td>1</td>\n",
       "      <td>21.0750</td>\n",
       "      <td>10.537500</td>\n",
       "      <td>7.025000</td>\n",
       "      <td>0</td>\n",
       "      <td>0</td>\n",
       "    </tr>\n",
       "    <tr>\n",
       "      <th>13</th>\n",
       "      <td>male</td>\n",
       "      <td>S</td>\n",
       "      <td>3</td>\n",
       "      <td>39.0</td>\n",
       "      <td>1</td>\n",
       "      <td>5</td>\n",
       "      <td>31.2750</td>\n",
       "      <td>0.801923</td>\n",
       "      <td>10.425000</td>\n",
       "      <td>0</td>\n",
       "      <td>0</td>\n",
       "    </tr>\n",
       "    <tr>\n",
       "      <th>16</th>\n",
       "      <td>male</td>\n",
       "      <td>Q</td>\n",
       "      <td>3</td>\n",
       "      <td>2.0</td>\n",
       "      <td>4</td>\n",
       "      <td>1</td>\n",
       "      <td>29.1250</td>\n",
       "      <td>14.562500</td>\n",
       "      <td>9.708333</td>\n",
       "      <td>0</td>\n",
       "      <td>0</td>\n",
       "    </tr>\n",
       "    <tr>\n",
       "      <th>25</th>\n",
       "      <td>female</td>\n",
       "      <td>S</td>\n",
       "      <td>3</td>\n",
       "      <td>38.0</td>\n",
       "      <td>1</td>\n",
       "      <td>5</td>\n",
       "      <td>31.3875</td>\n",
       "      <td>0.825987</td>\n",
       "      <td>10.462500</td>\n",
       "      <td>0</td>\n",
       "      <td>0</td>\n",
       "    </tr>\n",
       "    <tr>\n",
       "      <th>27</th>\n",
       "      <td>male</td>\n",
       "      <td>S</td>\n",
       "      <td>1</td>\n",
       "      <td>19.0</td>\n",
       "      <td>3</td>\n",
       "      <td>2</td>\n",
       "      <td>263.0000</td>\n",
       "      <td>13.842105</td>\n",
       "      <td>263.000000</td>\n",
       "      <td>0</td>\n",
       "      <td>0</td>\n",
       "    </tr>\n",
       "    <tr>\n",
       "      <th>...</th>\n",
       "      <td>...</td>\n",
       "      <td>...</td>\n",
       "      <td>...</td>\n",
       "      <td>...</td>\n",
       "      <td>...</td>\n",
       "      <td>...</td>\n",
       "      <td>...</td>\n",
       "      <td>...</td>\n",
       "      <td>...</td>\n",
       "      <td>...</td>\n",
       "      <td>...</td>\n",
       "    </tr>\n",
       "    <tr>\n",
       "      <th>850</th>\n",
       "      <td>male</td>\n",
       "      <td>S</td>\n",
       "      <td>3</td>\n",
       "      <td>4.0</td>\n",
       "      <td>4</td>\n",
       "      <td>2</td>\n",
       "      <td>31.2750</td>\n",
       "      <td>7.818750</td>\n",
       "      <td>10.425000</td>\n",
       "      <td>0</td>\n",
       "      <td>0</td>\n",
       "    </tr>\n",
       "    <tr>\n",
       "      <th>856</th>\n",
       "      <td>female</td>\n",
       "      <td>S</td>\n",
       "      <td>1</td>\n",
       "      <td>45.0</td>\n",
       "      <td>1</td>\n",
       "      <td>1</td>\n",
       "      <td>164.8667</td>\n",
       "      <td>3.663704</td>\n",
       "      <td>164.866700</td>\n",
       "      <td>0</td>\n",
       "      <td>0</td>\n",
       "    </tr>\n",
       "    <tr>\n",
       "      <th>863</th>\n",
       "      <td>female</td>\n",
       "      <td>S</td>\n",
       "      <td>3</td>\n",
       "      <td>NaN</td>\n",
       "      <td>8</td>\n",
       "      <td>2</td>\n",
       "      <td>69.5500</td>\n",
       "      <td>NaN</td>\n",
       "      <td>23.183333</td>\n",
       "      <td>0</td>\n",
       "      <td>1</td>\n",
       "    </tr>\n",
       "    <tr>\n",
       "      <th>885</th>\n",
       "      <td>female</td>\n",
       "      <td>Q</td>\n",
       "      <td>3</td>\n",
       "      <td>39.0</td>\n",
       "      <td>0</td>\n",
       "      <td>5</td>\n",
       "      <td>29.1250</td>\n",
       "      <td>0.746795</td>\n",
       "      <td>9.708333</td>\n",
       "      <td>0</td>\n",
       "      <td>0</td>\n",
       "    </tr>\n",
       "    <tr>\n",
       "      <th>888</th>\n",
       "      <td>female</td>\n",
       "      <td>S</td>\n",
       "      <td>3</td>\n",
       "      <td>NaN</td>\n",
       "      <td>1</td>\n",
       "      <td>2</td>\n",
       "      <td>23.4500</td>\n",
       "      <td>NaN</td>\n",
       "      <td>7.816667</td>\n",
       "      <td>0</td>\n",
       "      <td>1</td>\n",
       "    </tr>\n",
       "  </tbody>\n",
       "</table>\n",
       "<p>154 rows × 11 columns</p>\n",
       "</div>"
      ],
      "text/plain": [
       "        sex embarked  pclass   age  sibsp  parch      fare  fare_by_age   \n",
       "7      male        S       3   2.0      3      1   21.0750    10.537500  \\\n",
       "13     male        S       3  39.0      1      5   31.2750     0.801923   \n",
       "16     male        Q       3   2.0      4      1   29.1250    14.562500   \n",
       "25   female        S       3  38.0      1      5   31.3875     0.825987   \n",
       "27     male        S       1  19.0      3      2  263.0000    13.842105   \n",
       "..      ...      ...     ...   ...    ...    ...       ...          ...   \n",
       "850    male        S       3   4.0      4      2   31.2750     7.818750   \n",
       "856  female        S       1  45.0      1      1  164.8667     3.663704   \n",
       "863  female        S       3   NaN      8      2   69.5500          NaN   \n",
       "885  female        Q       3  39.0      0      5   29.1250     0.746795   \n",
       "888  female        S       3   NaN      1      2   23.4500          NaN   \n",
       "\n",
       "     fare_by_pclass  fare_null  age_is_nan  \n",
       "7          7.025000          0           0  \n",
       "13        10.425000          0           0  \n",
       "16         9.708333          0           0  \n",
       "25        10.462500          0           0  \n",
       "27       263.000000          0           0  \n",
       "..              ...        ...         ...  \n",
       "850       10.425000          0           0  \n",
       "856      164.866700          0           0  \n",
       "863       23.183333          0           1  \n",
       "885        9.708333          0           0  \n",
       "888        7.816667          0           1  \n",
       "\n",
       "[154 rows x 11 columns]"
      ]
     },
     "execution_count": 35,
     "metadata": {},
     "output_type": "execute_result"
    }
   ],
   "source": [
    "X_1 = X.loc[ee.values]\n",
    "X_1"
   ]
  },
  {
   "cell_type": "code",
   "execution_count": 36,
   "metadata": {},
   "outputs": [
    {
     "data": {
      "text/html": [
       "<div>\n",
       "<style scoped>\n",
       "    .dataframe tbody tr th:only-of-type {\n",
       "        vertical-align: middle;\n",
       "    }\n",
       "\n",
       "    .dataframe tbody tr th {\n",
       "        vertical-align: top;\n",
       "    }\n",
       "\n",
       "    .dataframe thead th {\n",
       "        text-align: right;\n",
       "    }\n",
       "</style>\n",
       "<table border=\"1\" class=\"dataframe\">\n",
       "  <thead>\n",
       "    <tr style=\"text-align: right;\">\n",
       "      <th></th>\n",
       "      <th>pclass</th>\n",
       "      <th>age</th>\n",
       "      <th>sibsp</th>\n",
       "      <th>parch</th>\n",
       "      <th>fare</th>\n",
       "      <th>fare_by_age</th>\n",
       "      <th>fare_by_pclass</th>\n",
       "      <th>fare_null</th>\n",
       "      <th>age_is_nan</th>\n",
       "    </tr>\n",
       "  </thead>\n",
       "  <tbody>\n",
       "    <tr>\n",
       "      <th>count</th>\n",
       "      <td>154</td>\n",
       "      <td>104</td>\n",
       "      <td>154</td>\n",
       "      <td>154</td>\n",
       "      <td>154</td>\n",
       "      <td>104</td>\n",
       "      <td>154</td>\n",
       "      <td>154</td>\n",
       "      <td>154</td>\n",
       "    </tr>\n",
       "    <tr>\n",
       "      <th>mean</th>\n",
       "      <td>2</td>\n",
       "      <td>21</td>\n",
       "      <td>1</td>\n",
       "      <td>1</td>\n",
       "      <td>79</td>\n",
       "      <td>10</td>\n",
       "      <td>67</td>\n",
       "      <td>0</td>\n",
       "      <td>0</td>\n",
       "    </tr>\n",
       "    <tr>\n",
       "      <th>std</th>\n",
       "      <td>0</td>\n",
       "      <td>18</td>\n",
       "      <td>2</td>\n",
       "      <td>1</td>\n",
       "      <td>94</td>\n",
       "      <td>19</td>\n",
       "      <td>99</td>\n",
       "      <td>0</td>\n",
       "      <td>0</td>\n",
       "    </tr>\n",
       "    <tr>\n",
       "      <th>min</th>\n",
       "      <td>1</td>\n",
       "      <td>0</td>\n",
       "      <td>0</td>\n",
       "      <td>0</td>\n",
       "      <td>0</td>\n",
       "      <td>0</td>\n",
       "      <td>0</td>\n",
       "      <td>0</td>\n",
       "      <td>0</td>\n",
       "    </tr>\n",
       "    <tr>\n",
       "      <th>25%</th>\n",
       "      <td>1</td>\n",
       "      <td>4</td>\n",
       "      <td>0</td>\n",
       "      <td>0</td>\n",
       "      <td>25</td>\n",
       "      <td>2</td>\n",
       "      <td>8</td>\n",
       "      <td>0</td>\n",
       "      <td>0</td>\n",
       "    </tr>\n",
       "    <tr>\n",
       "      <th>50%</th>\n",
       "      <td>2</td>\n",
       "      <td>18</td>\n",
       "      <td>1</td>\n",
       "      <td>1</td>\n",
       "      <td>39</td>\n",
       "      <td>5</td>\n",
       "      <td>15</td>\n",
       "      <td>0</td>\n",
       "      <td>0</td>\n",
       "    </tr>\n",
       "    <tr>\n",
       "      <th>75%</th>\n",
       "      <td>3</td>\n",
       "      <td>38</td>\n",
       "      <td>3</td>\n",
       "      <td>2</td>\n",
       "      <td>110</td>\n",
       "      <td>13</td>\n",
       "      <td>110</td>\n",
       "      <td>0</td>\n",
       "      <td>1</td>\n",
       "    </tr>\n",
       "    <tr>\n",
       "      <th>max</th>\n",
       "      <td>3</td>\n",
       "      <td>70</td>\n",
       "      <td>8</td>\n",
       "      <td>6</td>\n",
       "      <td>512</td>\n",
       "      <td>164</td>\n",
       "      <td>512</td>\n",
       "      <td>1</td>\n",
       "      <td>1</td>\n",
       "    </tr>\n",
       "  </tbody>\n",
       "</table>\n",
       "</div>"
      ],
      "text/plain": [
       "       pclass  age  sibsp  parch  fare  fare_by_age  fare_by_pclass   \n",
       "count     154  104    154    154   154          104             154  \\\n",
       "mean        2   21      1      1    79           10              67   \n",
       "std         0   18      2      1    94           19              99   \n",
       "min         1    0      0      0     0            0               0   \n",
       "25%         1    4      0      0    25            2               8   \n",
       "50%         2   18      1      1    39            5              15   \n",
       "75%         3   38      3      2   110           13             110   \n",
       "max         3   70      8      6   512          164             512   \n",
       "\n",
       "       fare_null  age_is_nan  \n",
       "count        154         154  \n",
       "mean           0           0  \n",
       "std            0           0  \n",
       "min            0           0  \n",
       "25%            0           0  \n",
       "50%            0           0  \n",
       "75%            0           1  \n",
       "max            1           1  "
      ]
     },
     "execution_count": 36,
     "metadata": {},
     "output_type": "execute_result"
    }
   ],
   "source": [
    "X_1.describe().astype(int)"
   ]
  },
  {
   "cell_type": "code",
   "execution_count": 37,
   "metadata": {},
   "outputs": [
    {
     "data": {
      "text/html": [
       "<div>\n",
       "<style scoped>\n",
       "    .dataframe tbody tr th:only-of-type {\n",
       "        vertical-align: middle;\n",
       "    }\n",
       "\n",
       "    .dataframe tbody tr th {\n",
       "        vertical-align: top;\n",
       "    }\n",
       "\n",
       "    .dataframe thead th {\n",
       "        text-align: right;\n",
       "    }\n",
       "</style>\n",
       "<table border=\"1\" class=\"dataframe\">\n",
       "  <thead>\n",
       "    <tr style=\"text-align: right;\">\n",
       "      <th></th>\n",
       "      <th>sex</th>\n",
       "      <th>embarked</th>\n",
       "      <th>pclass</th>\n",
       "      <th>age</th>\n",
       "      <th>sibsp</th>\n",
       "      <th>parch</th>\n",
       "      <th>fare</th>\n",
       "      <th>fare_by_age</th>\n",
       "      <th>fare_by_pclass</th>\n",
       "      <th>fare_null</th>\n",
       "      <th>age_is_nan</th>\n",
       "    </tr>\n",
       "  </thead>\n",
       "  <tbody>\n",
       "    <tr>\n",
       "      <th>0</th>\n",
       "      <td>male</td>\n",
       "      <td>S</td>\n",
       "      <td>3</td>\n",
       "      <td>22.0</td>\n",
       "      <td>1</td>\n",
       "      <td>0</td>\n",
       "      <td>7.2500</td>\n",
       "      <td>0.329545</td>\n",
       "      <td>2.416667</td>\n",
       "      <td>0</td>\n",
       "      <td>0</td>\n",
       "    </tr>\n",
       "    <tr>\n",
       "      <th>1</th>\n",
       "      <td>female</td>\n",
       "      <td>C</td>\n",
       "      <td>1</td>\n",
       "      <td>38.0</td>\n",
       "      <td>1</td>\n",
       "      <td>0</td>\n",
       "      <td>71.2833</td>\n",
       "      <td>1.875876</td>\n",
       "      <td>71.283300</td>\n",
       "      <td>0</td>\n",
       "      <td>0</td>\n",
       "    </tr>\n",
       "    <tr>\n",
       "      <th>2</th>\n",
       "      <td>female</td>\n",
       "      <td>S</td>\n",
       "      <td>3</td>\n",
       "      <td>26.0</td>\n",
       "      <td>0</td>\n",
       "      <td>0</td>\n",
       "      <td>7.9250</td>\n",
       "      <td>0.304808</td>\n",
       "      <td>2.641667</td>\n",
       "      <td>0</td>\n",
       "      <td>0</td>\n",
       "    </tr>\n",
       "    <tr>\n",
       "      <th>3</th>\n",
       "      <td>female</td>\n",
       "      <td>S</td>\n",
       "      <td>1</td>\n",
       "      <td>35.0</td>\n",
       "      <td>1</td>\n",
       "      <td>0</td>\n",
       "      <td>53.1000</td>\n",
       "      <td>1.517143</td>\n",
       "      <td>53.100000</td>\n",
       "      <td>0</td>\n",
       "      <td>0</td>\n",
       "    </tr>\n",
       "    <tr>\n",
       "      <th>4</th>\n",
       "      <td>male</td>\n",
       "      <td>S</td>\n",
       "      <td>3</td>\n",
       "      <td>35.0</td>\n",
       "      <td>0</td>\n",
       "      <td>0</td>\n",
       "      <td>8.0500</td>\n",
       "      <td>0.230000</td>\n",
       "      <td>2.683333</td>\n",
       "      <td>0</td>\n",
       "      <td>0</td>\n",
       "    </tr>\n",
       "    <tr>\n",
       "      <th>...</th>\n",
       "      <td>...</td>\n",
       "      <td>...</td>\n",
       "      <td>...</td>\n",
       "      <td>...</td>\n",
       "      <td>...</td>\n",
       "      <td>...</td>\n",
       "      <td>...</td>\n",
       "      <td>...</td>\n",
       "      <td>...</td>\n",
       "      <td>...</td>\n",
       "      <td>...</td>\n",
       "    </tr>\n",
       "    <tr>\n",
       "      <th>884</th>\n",
       "      <td>male</td>\n",
       "      <td>S</td>\n",
       "      <td>3</td>\n",
       "      <td>25.0</td>\n",
       "      <td>0</td>\n",
       "      <td>0</td>\n",
       "      <td>7.0500</td>\n",
       "      <td>0.282000</td>\n",
       "      <td>2.350000</td>\n",
       "      <td>0</td>\n",
       "      <td>0</td>\n",
       "    </tr>\n",
       "    <tr>\n",
       "      <th>886</th>\n",
       "      <td>male</td>\n",
       "      <td>S</td>\n",
       "      <td>2</td>\n",
       "      <td>27.0</td>\n",
       "      <td>0</td>\n",
       "      <td>0</td>\n",
       "      <td>13.0000</td>\n",
       "      <td>0.481481</td>\n",
       "      <td>6.500000</td>\n",
       "      <td>0</td>\n",
       "      <td>0</td>\n",
       "    </tr>\n",
       "    <tr>\n",
       "      <th>887</th>\n",
       "      <td>female</td>\n",
       "      <td>S</td>\n",
       "      <td>1</td>\n",
       "      <td>19.0</td>\n",
       "      <td>0</td>\n",
       "      <td>0</td>\n",
       "      <td>30.0000</td>\n",
       "      <td>1.578947</td>\n",
       "      <td>30.000000</td>\n",
       "      <td>0</td>\n",
       "      <td>0</td>\n",
       "    </tr>\n",
       "    <tr>\n",
       "      <th>889</th>\n",
       "      <td>male</td>\n",
       "      <td>C</td>\n",
       "      <td>1</td>\n",
       "      <td>26.0</td>\n",
       "      <td>0</td>\n",
       "      <td>0</td>\n",
       "      <td>30.0000</td>\n",
       "      <td>1.153846</td>\n",
       "      <td>30.000000</td>\n",
       "      <td>0</td>\n",
       "      <td>0</td>\n",
       "    </tr>\n",
       "    <tr>\n",
       "      <th>890</th>\n",
       "      <td>male</td>\n",
       "      <td>Q</td>\n",
       "      <td>3</td>\n",
       "      <td>32.0</td>\n",
       "      <td>0</td>\n",
       "      <td>0</td>\n",
       "      <td>7.7500</td>\n",
       "      <td>0.242188</td>\n",
       "      <td>2.583333</td>\n",
       "      <td>0</td>\n",
       "      <td>0</td>\n",
       "    </tr>\n",
       "  </tbody>\n",
       "</table>\n",
       "<p>737 rows × 11 columns</p>\n",
       "</div>"
      ],
      "text/plain": [
       "        sex embarked  pclass   age  sibsp  parch     fare  fare_by_age   \n",
       "0      male        S       3  22.0      1      0   7.2500     0.329545  \\\n",
       "1    female        C       1  38.0      1      0  71.2833     1.875876   \n",
       "2    female        S       3  26.0      0      0   7.9250     0.304808   \n",
       "3    female        S       1  35.0      1      0  53.1000     1.517143   \n",
       "4      male        S       3  35.0      0      0   8.0500     0.230000   \n",
       "..      ...      ...     ...   ...    ...    ...      ...          ...   \n",
       "884    male        S       3  25.0      0      0   7.0500     0.282000   \n",
       "886    male        S       2  27.0      0      0  13.0000     0.481481   \n",
       "887  female        S       1  19.0      0      0  30.0000     1.578947   \n",
       "889    male        C       1  26.0      0      0  30.0000     1.153846   \n",
       "890    male        Q       3  32.0      0      0   7.7500     0.242188   \n",
       "\n",
       "     fare_by_pclass  fare_null  age_is_nan  \n",
       "0          2.416667          0           0  \n",
       "1         71.283300          0           0  \n",
       "2          2.641667          0           0  \n",
       "3         53.100000          0           0  \n",
       "4          2.683333          0           0  \n",
       "..              ...        ...         ...  \n",
       "884        2.350000          0           0  \n",
       "886        6.500000          0           0  \n",
       "887       30.000000          0           0  \n",
       "889       30.000000          0           0  \n",
       "890        2.583333          0           0  \n",
       "\n",
       "[737 rows x 11 columns]"
      ]
     },
     "execution_count": 37,
     "metadata": {},
     "output_type": "execute_result"
    }
   ],
   "source": [
    "X_2 = X.loc[~ee.values]\n",
    "X_2"
   ]
  },
  {
   "cell_type": "code",
   "execution_count": 38,
   "metadata": {},
   "outputs": [
    {
     "data": {
      "text/html": [
       "<div>\n",
       "<style scoped>\n",
       "    .dataframe tbody tr th:only-of-type {\n",
       "        vertical-align: middle;\n",
       "    }\n",
       "\n",
       "    .dataframe tbody tr th {\n",
       "        vertical-align: top;\n",
       "    }\n",
       "\n",
       "    .dataframe thead th {\n",
       "        text-align: right;\n",
       "    }\n",
       "</style>\n",
       "<table border=\"1\" class=\"dataframe\">\n",
       "  <thead>\n",
       "    <tr style=\"text-align: right;\">\n",
       "      <th></th>\n",
       "      <th>pclass</th>\n",
       "      <th>age</th>\n",
       "      <th>sibsp</th>\n",
       "      <th>parch</th>\n",
       "      <th>fare</th>\n",
       "      <th>fare_by_age</th>\n",
       "      <th>fare_by_pclass</th>\n",
       "      <th>fare_null</th>\n",
       "      <th>age_is_nan</th>\n",
       "    </tr>\n",
       "  </thead>\n",
       "  <tbody>\n",
       "    <tr>\n",
       "      <th>count</th>\n",
       "      <td>737</td>\n",
       "      <td>610</td>\n",
       "      <td>737</td>\n",
       "      <td>737</td>\n",
       "      <td>737</td>\n",
       "      <td>610</td>\n",
       "      <td>737</td>\n",
       "      <td>737</td>\n",
       "      <td>737</td>\n",
       "    </tr>\n",
       "    <tr>\n",
       "      <th>mean</th>\n",
       "      <td>2</td>\n",
       "      <td>31</td>\n",
       "      <td>0</td>\n",
       "      <td>0</td>\n",
       "      <td>22</td>\n",
       "      <td>0</td>\n",
       "      <td>16</td>\n",
       "      <td>0</td>\n",
       "      <td>0</td>\n",
       "    </tr>\n",
       "    <tr>\n",
       "      <th>std</th>\n",
       "      <td>0</td>\n",
       "      <td>13</td>\n",
       "      <td>0</td>\n",
       "      <td>0</td>\n",
       "      <td>23</td>\n",
       "      <td>1</td>\n",
       "      <td>25</td>\n",
       "      <td>0</td>\n",
       "      <td>0</td>\n",
       "    </tr>\n",
       "    <tr>\n",
       "      <th>min</th>\n",
       "      <td>1</td>\n",
       "      <td>2</td>\n",
       "      <td>0</td>\n",
       "      <td>0</td>\n",
       "      <td>4</td>\n",
       "      <td>0</td>\n",
       "      <td>1</td>\n",
       "      <td>0</td>\n",
       "      <td>0</td>\n",
       "    </tr>\n",
       "    <tr>\n",
       "      <th>25%</th>\n",
       "      <td>2</td>\n",
       "      <td>22</td>\n",
       "      <td>0</td>\n",
       "      <td>0</td>\n",
       "      <td>7</td>\n",
       "      <td>0</td>\n",
       "      <td>2</td>\n",
       "      <td>0</td>\n",
       "      <td>0</td>\n",
       "    </tr>\n",
       "    <tr>\n",
       "      <th>50%</th>\n",
       "      <td>3</td>\n",
       "      <td>29</td>\n",
       "      <td>0</td>\n",
       "      <td>0</td>\n",
       "      <td>13</td>\n",
       "      <td>0</td>\n",
       "      <td>5</td>\n",
       "      <td>0</td>\n",
       "      <td>0</td>\n",
       "    </tr>\n",
       "    <tr>\n",
       "      <th>75%</th>\n",
       "      <td>3</td>\n",
       "      <td>38</td>\n",
       "      <td>1</td>\n",
       "      <td>0</td>\n",
       "      <td>26</td>\n",
       "      <td>1</td>\n",
       "      <td>13</td>\n",
       "      <td>0</td>\n",
       "      <td>0</td>\n",
       "    </tr>\n",
       "    <tr>\n",
       "      <th>max</th>\n",
       "      <td>3</td>\n",
       "      <td>80</td>\n",
       "      <td>4</td>\n",
       "      <td>3</td>\n",
       "      <td>153</td>\n",
       "      <td>8</td>\n",
       "      <td>153</td>\n",
       "      <td>0</td>\n",
       "      <td>1</td>\n",
       "    </tr>\n",
       "  </tbody>\n",
       "</table>\n",
       "</div>"
      ],
      "text/plain": [
       "       pclass  age  sibsp  parch  fare  fare_by_age  fare_by_pclass   \n",
       "count     737  610    737    737   737          610             737  \\\n",
       "mean        2   31      0      0    22            0              16   \n",
       "std         0   13      0      0    23            1              25   \n",
       "min         1    2      0      0     4            0               1   \n",
       "25%         2   22      0      0     7            0               2   \n",
       "50%         3   29      0      0    13            0               5   \n",
       "75%         3   38      1      0    26            1              13   \n",
       "max         3   80      4      3   153            8             153   \n",
       "\n",
       "       fare_null  age_is_nan  \n",
       "count        737         737  \n",
       "mean           0           0  \n",
       "std            0           0  \n",
       "min            0           0  \n",
       "25%            0           0  \n",
       "50%            0           0  \n",
       "75%            0           0  \n",
       "max            0           1  "
      ]
     },
     "execution_count": 38,
     "metadata": {},
     "output_type": "execute_result"
    }
   ],
   "source": [
    "X_2.describe().astype(int)"
   ]
  },
  {
   "cell_type": "code",
   "execution_count": null,
   "metadata": {},
   "outputs": [],
   "source": []
  },
  {
   "cell_type": "code",
   "execution_count": null,
   "metadata": {},
   "outputs": [],
   "source": []
  },
  {
   "cell_type": "code",
   "execution_count": null,
   "metadata": {},
   "outputs": [],
   "source": []
  },
  {
   "cell_type": "code",
   "execution_count": null,
   "metadata": {},
   "outputs": [],
   "source": []
  },
  {
   "cell_type": "code",
   "execution_count": null,
   "metadata": {},
   "outputs": [],
   "source": [
    "del X_1"
   ]
  },
  {
   "cell_type": "code",
   "execution_count": null,
   "metadata": {},
   "outputs": [],
   "source": [
    "X_train, X_test, y_train, y_test = train_test_split(X, y, test_size=0.3)"
   ]
  },
  {
   "cell_type": "code",
   "execution_count": null,
   "metadata": {},
   "outputs": [],
   "source": [
    "X_train"
   ]
  },
  {
   "cell_type": "code",
   "execution_count": null,
   "metadata": {},
   "outputs": [],
   "source": [
    "X_test"
   ]
  },
  {
   "cell_type": "code",
   "execution_count": null,
   "metadata": {},
   "outputs": [],
   "source": [
    "X_train.isna().mean().round(4)"
   ]
  },
  {
   "cell_type": "code",
   "execution_count": null,
   "metadata": {},
   "outputs": [],
   "source": [
    "y_train"
   ]
  },
  {
   "cell_type": "code",
   "execution_count": null,
   "metadata": {},
   "outputs": [],
   "source": [
    "imputer = KNNImputer()\n",
    "\n",
    "cols = X_train.select_dtypes(include=np.number).columns\n",
    "display(cols)\n",
    "\n",
    "# imputer.fit(X_train.select_dtypes(include=np.number))\n",
    "# X_train = imputer.transform(X_train.select_dtypes(include=np.number))\n",
    "\n",
    "X_train = imputer.fit_transform(X_train.select_dtypes(include=np.number))\n",
    "X_test = imputer.transform(X_test.select_dtypes(include=np.number))\n",
    "X_train"
   ]
  },
  {
   "cell_type": "code",
   "execution_count": null,
   "metadata": {},
   "outputs": [],
   "source": [
    "X_train.shape"
   ]
  },
  {
   "cell_type": "code",
   "execution_count": null,
   "metadata": {},
   "outputs": [],
   "source": [
    "X_train = pd.DataFrame(X_train, columns=cols)\n",
    "X_test = pd.DataFrame(X_test, columns=cols)\n",
    "X_train"
   ]
  },
  {
   "cell_type": "code",
   "execution_count": null,
   "metadata": {},
   "outputs": [],
   "source": [
    "X_train.isna().sum()"
   ]
  },
  {
   "cell_type": "code",
   "execution_count": null,
   "metadata": {},
   "outputs": [],
   "source": [
    "y_train.value_counts(normalize=True).round(2)"
   ]
  },
  {
   "cell_type": "code",
   "execution_count": null,
   "metadata": {},
   "outputs": [],
   "source": [
    "y_test.value_counts(normalize=True).round(2)"
   ]
  },
  {
   "cell_type": "code",
   "execution_count": null,
   "metadata": {},
   "outputs": [],
   "source": [
    "estimator = LogisticRegression()\n",
    "estimator.fit(X_train, y_train)"
   ]
  },
  {
   "cell_type": "code",
   "execution_count": null,
   "metadata": {},
   "outputs": [],
   "source": []
  },
  {
   "cell_type": "code",
   "execution_count": null,
   "metadata": {},
   "outputs": [],
   "source": [
    "y_pred_train = estimator.predict(X_train)\n",
    "y_pred_train"
   ]
  },
  {
   "cell_type": "code",
   "execution_count": null,
   "metadata": {},
   "outputs": [],
   "source": [
    "y_train"
   ]
  },
  {
   "cell_type": "code",
   "execution_count": null,
   "metadata": {},
   "outputs": [],
   "source": [
    "estimator.score(X_train, y_train).round(2)"
   ]
  },
  {
   "cell_type": "code",
   "execution_count": null,
   "metadata": {},
   "outputs": [],
   "source": [
    "estimator.score(X_test, y_test).round(2)"
   ]
  },
  {
   "cell_type": "code",
   "execution_count": null,
   "metadata": {},
   "outputs": [],
   "source": [
    "scaler = StandardScaler()  # QuantileTransformer(n_quantiles=100)\n",
    "# scaler = MinMaxScaler()  # QuantileTransformer(n_quantiles=100)\n",
    "\n",
    "# scaler.fit(X_train)\n",
    "# X_train_sca = scaler.transform(X_train)\n",
    "X_train_sca = scaler.fit_transform(X_train)\n",
    "X_test_sca = scaler.transform(X_test)"
   ]
  },
  {
   "cell_type": "code",
   "execution_count": null,
   "metadata": {},
   "outputs": [],
   "source": [
    "X_train_sca = pd.DataFrame(X_train_sca, columns=cols)\n",
    "X_test_sca = pd.DataFrame(X_test_sca, columns=cols)\n",
    "X_train_sca"
   ]
  },
  {
   "cell_type": "code",
   "execution_count": null,
   "metadata": {},
   "outputs": [],
   "source": [
    "X_train.describe().round(1)"
   ]
  },
  {
   "cell_type": "code",
   "execution_count": null,
   "metadata": {},
   "outputs": [],
   "source": [
    "X_train_sca.describe().round(1)"
   ]
  },
  {
   "cell_type": "code",
   "execution_count": null,
   "metadata": {},
   "outputs": [],
   "source": [
    "from IPython.display import display\n",
    "\n",
    "estimator = RandomForestClassifier()\n",
    "estimator.fit(X_train_sca, y_train)\n",
    "\n",
    "display(estimator.score(X_train_sca, y_train).round(2))\n",
    "display(estimator.score(X_test_sca, y_test).round(2))"
   ]
  },
  {
   "cell_type": "code",
   "execution_count": null,
   "metadata": {},
   "outputs": [],
   "source": [
    "# estimator = LogisticRegression()\n",
    "# estimator.fit(X_train_sca, y_train)\n",
    "\n",
    "# display(estimator.score(X_train_sca, np.log1p(y_train).astype(int)))\n",
    "# display(estimator.score(X_test_sca, np.log1p(y_test).astype(int)))"
   ]
  },
  {
   "cell_type": "code",
   "execution_count": null,
   "metadata": {},
   "outputs": [],
   "source": [
    "y_train"
   ]
  },
  {
   "cell_type": "code",
   "execution_count": null,
   "metadata": {},
   "outputs": [],
   "source": [
    "# np.log1p(y_train).astype(int).value_counts()"
   ]
  },
  {
   "cell_type": "code",
   "execution_count": null,
   "metadata": {},
   "outputs": [],
   "source": [
    "grid = GridSearchCV(\n",
    "    LogisticRegression(),\n",
    "    {},\n",
    "    cv=10, # StratifiedShuffleSplit(n_splits=10, test_size=0.3)\n",
    "    n_jobs=4,\n",
    "    verbose=2,\n",
    "    return_train_score=True,\n",
    ")\n",
    "grid.fit(X_train, y_train)"
   ]
  },
  {
   "cell_type": "code",
   "execution_count": null,
   "metadata": {},
   "outputs": [],
   "source": [
    "grid.best_estimator_"
   ]
  },
  {
   "cell_type": "code",
   "execution_count": null,
   "metadata": {},
   "outputs": [],
   "source": []
  },
  {
   "cell_type": "code",
   "execution_count": null,
   "metadata": {},
   "outputs": [],
   "source": [
    "display(grid.score(X_train, y_train))\n",
    "display(grid.score(X_test, y_test))"
   ]
  },
  {
   "cell_type": "code",
   "execution_count": null,
   "metadata": {},
   "outputs": [],
   "source": [
    "display(grid.best_estimator_.score(X_train, y_train))\n",
    "display(grid.best_estimator_.score(X_test, y_test))"
   ]
  },
  {
   "cell_type": "code",
   "execution_count": null,
   "metadata": {},
   "outputs": [],
   "source": []
  },
  {
   "cell_type": "code",
   "execution_count": null,
   "metadata": {},
   "outputs": [],
   "source": [
    "grid.cv_results_"
   ]
  },
  {
   "cell_type": "code",
   "execution_count": null,
   "metadata": {},
   "outputs": [],
   "source": [
    "res = pd.DataFrame(grid.cv_results_).round(2)\n",
    "res"
   ]
  },
  {
   "cell_type": "code",
   "execution_count": null,
   "metadata": {},
   "outputs": [],
   "source": [
    "cols = [i for i in res.columns if \"split\" not in i]\n",
    "res = res.loc[:, cols]\n",
    "res"
   ]
  },
  {
   "cell_type": "code",
   "execution_count": null,
   "metadata": {},
   "outputs": [],
   "source": [
    "def resultize(grid):\n",
    "    \"\"\"from a fited grid search build / return a fancy dataframe of results\"\"\"\n",
    "\n",
    "    res = pd.DataFrame(grid.cv_results_).round(2)\n",
    "    cols = [i for i in res.columns if \"split\" not in i]\n",
    "    res = res.loc[:, cols]\n",
    "\n",
    "    res = res.sort_values(\"mean_test_score\", ascending=False)\n",
    "\n",
    "    return res"
   ]
  },
  {
   "cell_type": "code",
   "execution_count": null,
   "metadata": {},
   "outputs": [],
   "source": [
    "blabla = resultize(grid)\n",
    "blabla"
   ]
  },
  {
   "cell_type": "code",
   "execution_count": null,
   "metadata": {},
   "outputs": [],
   "source": [
    "pipe = Pipeline(\n",
    "    [\n",
    "        # (\"sampler\", RandomUnderSampler()),\n",
    "        (\"imputer\", KNNImputer()),\n",
    "        (\"scaler\", StandardScaler()),\n",
    "        (\"estimator\", LogisticRegression()),\n",
    "    ]\n",
    ")\n",
    "\n",
    "pipe"
   ]
  },
  {
   "cell_type": "code",
   "execution_count": null,
   "metadata": {},
   "outputs": [],
   "source": [
    "grid = GridSearchCV(pipe, {}, cv=10, n_jobs=-1, verbose=2, return_train_score=True)\n",
    "grid.fit(X.select_dtypes(include=np.number), y)"
   ]
  },
  {
   "cell_type": "code",
   "execution_count": null,
   "metadata": {},
   "outputs": [],
   "source": [
    "resultize(grid)"
   ]
  },
  {
   "cell_type": "code",
   "execution_count": null,
   "metadata": {},
   "outputs": [],
   "source": [
    "li = [\n",
    "    # (\"sampler\", RandomUnderSampler()),\n",
    "    (\"imputer\", KNNImputer()),\n",
    "    (\"scaler\", StandardScaler()),\n",
    "    (\"estimator\", LogisticRegression()),\n",
    "]\n",
    "\n",
    "pipe = Pipeline(\n",
    "    li\n",
    ")\n",
    "pipe"
   ]
  },
  {
   "cell_type": "code",
   "execution_count": null,
   "metadata": {},
   "outputs": [],
   "source": [
    "param_grid = {\n",
    "\n",
    "\n",
    "    # \"estimator\": [LogisticRegression()],\n",
    "    \n",
    "\n",
    "\n",
    "    # \"sampler\": [\"passthrough\", RandomUnderSampler()],\n",
    "    \n",
    "    \"imputer\": [\n",
    "        KNNImputer(),\n",
    "        SimpleImputer(strategy=\"mean\"),\n",
    "        SimpleImputer(strategy=\"median\"),\n",
    "    ],\n",
    "}\n",
    "param_grid"
   ]
  },
  {
   "cell_type": "code",
   "execution_count": null,
   "metadata": {},
   "outputs": [],
   "source": [
    "# def cv():\n",
    "#     return StratifiedShuffleSplit(n_splits=10, test_size=0.3)"
   ]
  },
  {
   "cell_type": "code",
   "execution_count": null,
   "metadata": {},
   "outputs": [],
   "source": [
    "N_JOBS = -1\n",
    "VERBOSE = 1\n",
    "CV = 10"
   ]
  },
  {
   "cell_type": "code",
   "execution_count": null,
   "metadata": {},
   "outputs": [],
   "source": [
    "grid = GridSearchCV(\n",
    "    pipe,\n",
    "    param_grid=param_grid,\n",
    "    cv=CV,\n",
    "    n_jobs=N_JOBS,\n",
    "    verbose=VERBOSE,\n",
    "    return_train_score=True,\n",
    ")\n",
    "grid.fit(X.select_dtypes(include=np.number), y)\n",
    "resultize(grid)"
   ]
  },
  {
   "cell_type": "code",
   "execution_count": null,
   "metadata": {},
   "outputs": [],
   "source": []
  },
  {
   "cell_type": "code",
   "execution_count": null,
   "metadata": {},
   "outputs": [],
   "source": [
    "param_grid = {\n",
    "    \"estimator\": [LogisticRegression(), ], # RandomForestClassifier()\n",
    "    #\n",
    "\n",
    "    # \"sampler\": [\"passthrough\", RandomUnderSampler()],\n",
    "    \n",
    "    \"imputer\": [KNNImputer(), SimpleImputer()],\n",
    "    \n",
    "    \"scaler\": [\n",
    "        StandardScaler(),\n",
    "        Normalizer(),\n",
    "        QuantileTransformer(n_quantiles=100),\n",
    "        MinMaxScaler(),\n",
    "        \"passthrough\",\n",
    "    ],\n",
    "}\n",
    "param_grid"
   ]
  },
  {
   "cell_type": "code",
   "execution_count": null,
   "metadata": {},
   "outputs": [],
   "source": [
    "grid = GridSearchCV(\n",
    "    pipe,\n",
    "    param_grid=param_grid,\n",
    "    cv=CV,\n",
    "    n_jobs=N_JOBS,\n",
    "    verbose=VERBOSE,\n",
    "    return_train_score=True,\n",
    ")\n",
    "\n",
    "grid.fit(X.select_dtypes(include=np.number), y)\n",
    "resultize(grid)"
   ]
  },
  {
   "cell_type": "code",
   "execution_count": null,
   "metadata": {},
   "outputs": [],
   "source": []
  },
  {
   "cell_type": "code",
   "execution_count": null,
   "metadata": {},
   "outputs": [],
   "source": [
    "param_grid = {\n",
    "    # \"imputer\"  : [KNNImputer(), SimpleImputer()],\n",
    "    # \"scaler\" : [StandardScaler(), Normalizer(), QuantileTransformer(n_quantiles=100), \"passthrough\"],  # MinMaxScaler()\n",
    "    \"estimator\": [\n",
    "        DummyClassifier(),\n",
    "        LogisticRegression(),\n",
    "        KNeighborsClassifier(),\n",
    "        RandomForestClassifier(),\n",
    "    ]\n",
    "}\n",
    "param_grid"
   ]
  },
  {
   "cell_type": "code",
   "execution_count": null,
   "metadata": {},
   "outputs": [],
   "source": [
    "grid = GridSearchCV(\n",
    "    pipe, param_grid=param_grid, cv=CV, n_jobs=-1, verbose=1, return_train_score=True\n",
    ")\n",
    "grid.fit(X.select_dtypes(include=np.number), y)\n",
    "resultize(grid)"
   ]
  },
  {
   "cell_type": "code",
   "execution_count": null,
   "metadata": {},
   "outputs": [],
   "source": [
    "param_grid = {\n",
    "    \n",
    "    # \"sampler\": [\"passthrough\", RandomUnderSampler()],\n",
    "\n",
    "    \"imputer\": [KNNImputer(), SimpleImputer()],\n",
    "\n",
    "    \"scaler\": [\n",
    "        StandardScaler(),\n",
    "        Normalizer(),\n",
    "        QuantileTransformer(n_quantiles=100),\n",
    "        \"passthrough\",\n",
    "    ],  # MinMaxScaler()\n",
    "    \n",
    "    \"estimator\": [\n",
    "        LogisticRegression(),\n",
    "        KNeighborsClassifier(),\n",
    "        RandomForestClassifier(),\n",
    "    ],  # DummyClassifier()\n",
    "}\n",
    "param_grid"
   ]
  },
  {
   "cell_type": "code",
   "execution_count": null,
   "metadata": {},
   "outputs": [],
   "source": [
    "grid = GridSearchCV(\n",
    "    pipe,\n",
    "    param_grid=param_grid,\n",
    "    cv=CV,\n",
    "    n_jobs=N_JOBS,\n",
    "    verbose=VERBOSE,\n",
    "    return_train_score=True,\n",
    ")\n",
    "grid.fit(X.select_dtypes(include=np.number), y)\n",
    "resultize(grid).sort_values(\"mean_test_score\", ascending=False).head()"
   ]
  },
  {
   "cell_type": "code",
   "execution_count": null,
   "metadata": {},
   "outputs": [],
   "source": [
    "resultize(grid).sort_values(\"mean_test_score\", ascending=False)"
   ]
  },
  {
   "cell_type": "code",
   "execution_count": null,
   "metadata": {},
   "outputs": [],
   "source": [
    "pd.get_dummies(X)"
   ]
  },
  {
   "cell_type": "code",
   "execution_count": null,
   "metadata": {},
   "outputs": [],
   "source": [
    "pipe"
   ]
  },
  {
   "cell_type": "code",
   "execution_count": null,
   "metadata": {},
   "outputs": [],
   "source": [
    "grid = GridSearchCV(\n",
    "    pipe,\n",
    "    param_grid=param_grid,\n",
    "    cv=CV,\n",
    "    n_jobs=N_JOBS,\n",
    "    verbose=VERBOSE,\n",
    "    return_train_score=True,\n",
    ")\n",
    "grid.fit(pd.get_dummies(X), y)\n",
    "resultize(grid).head()"
   ]
  },
  {
   "cell_type": "code",
   "execution_count": null,
   "metadata": {},
   "outputs": [],
   "source": [
    "param_grid = {\n",
    "    \"sampler\": [\n",
    "        \"passthrough\",\n",
    "    ],  # RandomUnderSampler()\n",
    "    \"imputer\": [\n",
    "        KNNImputer(),\n",
    "    ],\n",
    "    \"scaler\": [\n",
    "        StandardScaler(),\n",
    "        Normalizer(),\n",
    "        QuantileTransformer(n_quantiles=100),\n",
    "        \"passthrough\",\n",
    "    ],\n",
    "    \"estimator\": [\n",
    "        KNeighborsClassifier(),\n",
    "        RandomForestClassifier(),\n",
    "        XGBClassifier(),\n",
    "    ],  # LogisticRegression(),\n",
    "}"
   ]
  },
  {
   "cell_type": "code",
   "execution_count": null,
   "metadata": {},
   "outputs": [],
   "source": []
  },
  {
   "cell_type": "code",
   "execution_count": null,
   "metadata": {},
   "outputs": [],
   "source": [
    "grid = GridSearchCV(\n",
    "    pipe,\n",
    "    param_grid=param_grid,\n",
    "    cv=cv(),\n",
    "    n_jobs=N_JOBS,\n",
    "    verbose=VERBOSE,\n",
    "    return_train_score=True,\n",
    ")\n",
    "grid.fit(pd.get_dummies(X), y)\n",
    "resultize(grid).head()"
   ]
  },
  {
   "cell_type": "code",
   "execution_count": null,
   "metadata": {},
   "outputs": [],
   "source": [
    "param_grid = {\n",
    "    # \"sampler\": [\n",
    "    #     \"passthrough\",\n",
    "    # ],  # RandomUnderSampler()\n",
    "    \"imputer\": [\n",
    "        KNNImputer(),\n",
    "    ],\n",
    "    \"scaler\": [\n",
    "        StandardScaler(),\n",
    "        Normalizer(),\n",
    "        QuantileTransformer(n_quantiles=100),\n",
    "        \"passthrough\",\n",
    "    ],\n",
    "    \"estimator\": [\n",
    "        KNeighborsClassifier(),\n",
    "    ],  # LogisticRegression(),\n",
    "\n",
    "    \"estimator__n_neighbors\" : [3, 5, 7, 10, 15, 20],\n",
    "    \"imputer__n_neighbors\" :  [3, 5, 7, 10, 15, 20],\n",
    "}\n",
    "param_grid"
   ]
  },
  {
   "cell_type": "code",
   "execution_count": null,
   "metadata": {},
   "outputs": [],
   "source": []
  },
  {
   "cell_type": "code",
   "execution_count": null,
   "metadata": {},
   "outputs": [],
   "source": []
  },
  {
   "cell_type": "code",
   "execution_count": null,
   "metadata": {},
   "outputs": [],
   "source": [
    "grid = GridSearchCV(\n",
    "    pipe,\n",
    "    param_grid=param_grid,\n",
    "    cv=CV,\n",
    "    n_jobs=N_JOBS,\n",
    "    verbose=VERBOSE,\n",
    "    return_train_score=True,\n",
    ")\n",
    "grid.fit(pd.get_dummies(X), y)\n",
    "resultize(grid).head()"
   ]
  },
  {
   "cell_type": "code",
   "execution_count": null,
   "metadata": {},
   "outputs": [],
   "source": [
    "sns.displot(X.age)"
   ]
  },
  {
   "cell_type": "code",
   "execution_count": null,
   "metadata": {},
   "outputs": [],
   "source": [
    "X.age.skew().round(1)"
   ]
  },
  {
   "cell_type": "code",
   "execution_count": null,
   "metadata": {},
   "outputs": [],
   "source": [
    "X.fare.skew()"
   ]
  },
  {
   "cell_type": "code",
   "execution_count": null,
   "metadata": {},
   "outputs": [],
   "source": [
    "sns.displot(X.sibsp)"
   ]
  },
  {
   "cell_type": "code",
   "execution_count": null,
   "metadata": {},
   "outputs": [],
   "source": [
    "for col in X.select_dtypes(np.number).columns : \n",
    "    \n",
    "    txt = f\"{col} ==> {X[col].skew():.2f}\"\n",
    "    print(txt)"
   ]
  },
  {
   "cell_type": "code",
   "execution_count": null,
   "metadata": {},
   "outputs": [],
   "source": [
    "DISPLAY = False \n",
    "\n",
    "if DISPLAY : \n",
    "    sns.pairplot(X, corner=True)"
   ]
  },
  {
   "cell_type": "code",
   "execution_count": null,
   "metadata": {},
   "outputs": [],
   "source": [
    "sns.displot(X.fare)"
   ]
  },
  {
   "cell_type": "code",
   "execution_count": null,
   "metadata": {},
   "outputs": [],
   "source": [
    "sns.displot(np.log1p(X.fare))"
   ]
  },
  {
   "cell_type": "code",
   "execution_count": null,
   "metadata": {},
   "outputs": [],
   "source": []
  },
  {
   "cell_type": "code",
   "execution_count": null,
   "metadata": {},
   "outputs": [],
   "source": [
    "X[\"equipage\"] = (X.fare ==0).astype(int)\n",
    "X"
   ]
  },
  {
   "cell_type": "code",
   "execution_count": null,
   "metadata": {},
   "outputs": [],
   "source": [
    "X.loc[X.equipage == 1]"
   ]
  },
  {
   "cell_type": "code",
   "execution_count": null,
   "metadata": {},
   "outputs": [],
   "source": [
    "X_transf = X.copy()\n",
    "X_transf[\"fare\"] = np.log1p(X_transf[\"fare\"])\n",
    "X_transf"
   ]
  },
  {
   "cell_type": "code",
   "execution_count": null,
   "metadata": {},
   "outputs": [],
   "source": [
    "X_transf[\"sex\"] = X_transf[\"sex\"].apply(lambda i : 1 if i ==\"male\" else 0)\n",
    "X_transf"
   ]
  },
  {
   "cell_type": "code",
   "execution_count": null,
   "metadata": {},
   "outputs": [],
   "source": [
    "param_grid = {\n",
    "    \"sampler\": [\n",
    "        \"passthrough\",\n",
    "    ],  # RandomUnderSampler()\n",
    "    \"imputer\": [\n",
    "        KNNImputer(),\n",
    "    ],\n",
    "    \"scaler\": [\n",
    "        StandardScaler(),\n",
    "        Normalizer(),\n",
    "        QuantileTransformer(n_quantiles=100),\n",
    "        \"passthrough\",\n",
    "    ],\n",
    "    \"estimator\": [\n",
    "        XGBClassifier(), \n",
    "        RandomForestClassifier(), \n",
    "        KNeighborsClassifier(),\n",
    "    ],  # LogisticRegression(),\n",
    "\n",
    "    # \"estimator__n_neighbors\" : [3, 5, 7, 10, 15, 20],\n",
    "    # \"imputer__n_neighbors\" :  [3, 5, 7, 10, 15, 20],\n",
    "}\n",
    "param_grid"
   ]
  },
  {
   "cell_type": "code",
   "execution_count": null,
   "metadata": {},
   "outputs": [],
   "source": [
    "pipe"
   ]
  },
  {
   "cell_type": "code",
   "execution_count": null,
   "metadata": {},
   "outputs": [],
   "source": [
    "grid = GridSearchCV(\n",
    "    pipe,\n",
    "    param_grid=param_grid,\n",
    "    cv=cv(),\n",
    "    n_jobs=N_JOBS,\n",
    "    verbose=VERBOSE,\n",
    "    return_train_score=True,\n",
    ")\n",
    "\n",
    "grid.fit(pd.get_dummies(X), y)\n",
    "resultize(grid).head()"
   ]
  },
  {
   "cell_type": "code",
   "execution_count": null,
   "metadata": {},
   "outputs": [],
   "source": [
    "grid = GridSearchCV(\n",
    "    pipe,\n",
    "    param_grid=param_grid,\n",
    "    cv=cv(),\n",
    "    n_jobs=N_JOBS,\n",
    "    verbose=VERBOSE,\n",
    "    return_train_score=True,\n",
    ")\n",
    "\n",
    "grid.fit(pd.get_dummies(X_transf), y)\n",
    "resultize(grid).head()"
   ]
  },
  {
   "cell_type": "code",
   "execution_count": null,
   "metadata": {},
   "outputs": [],
   "source": [
    "def resultize(grid, log_target=0, transf=0, features=\"\"):\n",
    "    \"\"\" \"\"\"\n",
    "\n",
    "    res = pd.DataFrame(grid.cv_results_).round(2)\n",
    "    cols = [i for i in res.columns if \"split\" not in i]\n",
    "    res = res.loc[:, cols]\n",
    "\n",
    "    ######################\n",
    "    ######################\n",
    "\n",
    "    res[\"log_target\"] = log_target\n",
    "    res[\"transf\"] = transf\n",
    "    res[\"features\"] = features\n",
    "\n",
    "    ######################\n",
    "    ######################\n",
    "\n",
    "    return res.sort_values(\"mean_test_score\", ascending=False)"
   ]
  },
  {
   "cell_type": "code",
   "execution_count": null,
   "metadata": {},
   "outputs": [],
   "source": [
    "RES = pd.DataFrame()"
   ]
  },
  {
   "cell_type": "code",
   "execution_count": null,
   "metadata": {},
   "outputs": [],
   "source": [
    "param_grid"
   ]
  },
  {
   "cell_type": "code",
   "execution_count": null,
   "metadata": {},
   "outputs": [],
   "source": [
    "pipe"
   ]
  },
  {
   "cell_type": "code",
   "execution_count": null,
   "metadata": {},
   "outputs": [],
   "source": [
    "grid = GridSearchCV(\n",
    "    pipe,\n",
    "    param_grid=param_grid,\n",
    "    cv=CV,\n",
    "    n_jobs=N_JOBS,\n",
    "    verbose=VERBOSE,\n",
    "    return_train_score=True,\n",
    ")\n",
    "\n",
    "grid.fit(pd.get_dummies(X), y)\n",
    "res = resultize(grid, log_target=0, transf=0, features=\"dummies\")\n",
    "\n",
    "\n",
    "RES = pd.concat([RES, res], axis=0, ignore_index=True)\n",
    "res.head()"
   ]
  },
  {
   "cell_type": "code",
   "execution_count": null,
   "metadata": {},
   "outputs": [],
   "source": [
    "RES"
   ]
  },
  {
   "cell_type": "code",
   "execution_count": null,
   "metadata": {},
   "outputs": [],
   "source": [
    "RES.iloc[:, -3:].nunique()"
   ]
  },
  {
   "cell_type": "code",
   "execution_count": null,
   "metadata": {},
   "outputs": [],
   "source": [
    "grid = GridSearchCV(\n",
    "    pipe,\n",
    "    param_grid=param_grid,\n",
    "    cv=cv(),\n",
    "    n_jobs=N_JOBS,\n",
    "    verbose=VERBOSE,\n",
    "    return_train_score=True,\n",
    ")\n",
    "\n",
    "grid.fit(pd.get_dummies(X_transf), y)\n",
    "res = resultize(grid, log_target=0, transf=0, features=\"dummies\")\n",
    "\n",
    "\n",
    "RES = pd.concat([RES, res], axis=0, ignore_index=True)\n",
    "res.head()"
   ]
  },
  {
   "cell_type": "code",
   "execution_count": null,
   "metadata": {},
   "outputs": [],
   "source": [
    "grid = GridSearchCV(\n",
    "    pipe, param_grid=param_grid, cv=10, n_jobs=-1, verbose=1, return_train_score=True\n",
    ")\n",
    "grid.fit(X.select_dtypes(include=np.number), y)\n",
    "\n",
    "res = resultize(grid, log_target=0, transf_fare=0, features=\"only_num\")\n",
    "\n",
    "\n",
    "RES = pd.concat([RES, res], axis=0, ignore_index=True)\n",
    "res.head()"
   ]
  },
  {
   "cell_type": "code",
   "execution_count": null,
   "metadata": {},
   "outputs": [],
   "source": [
    "# grid = GridSearchCV(\n",
    "#     pipe, param_grid=param_grid, cv=10, n_jobs=-1, verbose=1, return_train_score=True\n",
    "# )\n",
    "# _y = np.log1p(y).astype(int)\n",
    "# grid.fit(X.select_dtypes(include=np.number), _y)\n",
    "\n",
    "# res = resultize(grid, log_target=1, transf_fare=0, features=\"only_num\")\n",
    "\n",
    "\n",
    "# RES = pd.concat([RES, res], axis=0, ignore_index=True)\n",
    "# res.head()"
   ]
  },
  {
   "cell_type": "code",
   "execution_count": null,
   "metadata": {},
   "outputs": [],
   "source": [
    "RES.iloc[:, -3:].nunique()"
   ]
  },
  {
   "cell_type": "code",
   "execution_count": null,
   "metadata": {},
   "outputs": [],
   "source": [
    "RES.transf.value_counts()"
   ]
  },
  {
   "cell_type": "code",
   "execution_count": null,
   "metadata": {},
   "outputs": [],
   "source": [
    "# RandomForestClassifier()\tKNNImputer()\t\"passthrough\"  \"0\"\t\"1\"\t\"dummies\""
   ]
  },
  {
   "cell_type": "code",
   "execution_count": null,
   "metadata": {},
   "outputs": [],
   "source": [
    "pca_pipe = Pipeline(\n",
    "    [    \n",
    "        # (\"sampler\", RandomUnderSampler()),\n",
    "        # (\"selector\", ColumnSelector(threshold=0.33)),\n",
    "        # (\"preprocessor\", preprocessor),\n",
    "        (\"imputer\", KNNImputer()),\n",
    "        (\"scaler\", StandardScaler()),\n",
    "        (\"reductor\", PCA()), \n",
    "        (\"estimator\", LogisticRegression()),\n",
    "    ]\n",
    ")\n"
   ]
  },
  {
   "cell_type": "code",
   "execution_count": null,
   "metadata": {},
   "outputs": [],
   "source": [
    "param_grid = {\n",
    "    # \"sampler\": [\n",
    "    #     \"passthrough\",\n",
    "    # ],  # RandomUnderSampler()\n",
    "\n",
    "    \"imputer\": [\n",
    "        KNNImputer()\n",
    "    ],\n",
    "\n",
    "    \"reductor\": [PCA(svd_solver = 'full')],\n",
    "\n",
    "    \"scaler\": [\n",
    "        StandardScaler(),\n",
    "        QuantileTransformer(n_quantiles=100),\n",
    "        \"passthrough\",\n",
    "    ],         # Normalizer(),\n",
    "\n",
    "    \"estimator\": [\n",
    "        # XGBClassifier(), \n",
    "        # RandomForestClassifier(), \n",
    "        KNeighborsClassifier(),\n",
    "    ],  # LogisticRegression(),\n",
    "\n",
    "    \"reductor__n_components\" :    [0.85, 0.9, 0.95, 0.99], # 0.5, 0.7, 0.8\n",
    "\n",
    "    \"estimator__n_neighbors\" : [3, 5, 7, 10, 15, 20],\n",
    "    # \"imputer__n_neighbors\" :  [3, 5, 7, 10, 15, 20],\n",
    "}\n",
    "param_grid"
   ]
  },
  {
   "cell_type": "code",
   "execution_count": null,
   "metadata": {},
   "outputs": [],
   "source": [
    "grid = GridSearchCV(\n",
    "    pca_pipe,\n",
    "    param_grid=param_grid,\n",
    "    cv=10,\n",
    "    n_jobs=N_JOBS,\n",
    "    verbose=VERBOSE,\n",
    "    return_train_score=True,\n",
    ")\n",
    "\n",
    "grid.fit(pd.get_dummies(X), y)\n",
    "res = resultize(grid, log_target=0, transf=0, features=\"dummies\")\n",
    "RES = pd.concat([RES, res], axis=0, ignore_index=True)\n",
    "display(res.head())\n",
    "\n",
    "grid.fit(pd.get_dummies(X_transf), y)\n",
    "res = resultize(grid, log_target=0, transf=1, features=\"dummies\")\n",
    "RES = pd.concat([RES, res], axis=0, ignore_index=True)\n",
    "\n",
    "display(res.head())"
   ]
  },
  {
   "cell_type": "code",
   "execution_count": null,
   "metadata": {},
   "outputs": [],
   "source": [
    "# param_grid = {\n",
    "#     \"estimator__n_estimators\": [100, 150, 200, 300, 400, 500],\n",
    "#     \"imputer\": [\n",
    "#         KNNImputer(),\n",
    "#     ],\n",
    "#     \"scaler\": [\n",
    "#         \"passthrough\",\n",
    "#     ],\n",
    "#     \"estimator\": [\n",
    "#         RandomForestClassifier(),\n",
    "#     ],\n",
    "# }\n",
    "# param_grid"
   ]
  },
  {
   "cell_type": "code",
   "execution_count": null,
   "metadata": {},
   "outputs": [],
   "source": [
    "grid = GridSearchCV(\n",
    "    pipe, param_grid=param_grid, cv=10, n_jobs=-1, verbose=1, return_train_score=True\n",
    ")\n",
    "grid.fit(X.select_dtypes(include=np.number), y)\n",
    "res = resultize(grid, log_target=0, transf=0, features=\"only_num\")\n",
    "RES = pd.concat([RES, res], axis=0, ignore_index=True)\n",
    "display(res.head())\n",
    "\n",
    "grid = GridSearchCV(\n",
    "    pipe, param_grid=param_grid, cv=10, n_jobs=-1, verbose=1, return_train_score=True\n",
    ")\n",
    "grid.fit(pd.get_dummies(X), y)\n",
    "res = resultize(grid, log_target=0, transf=0, features=\"dummies\")\n",
    "RES = pd.concat([RES, res], axis=0, ignore_index=True)\n",
    "display(res.head())\n",
    "\n",
    "\n",
    "grid = GridSearchCV(\n",
    "    pipe, param_grid=param_grid, cv=10, n_jobs=-1, verbose=1, return_train_score=True\n",
    ")\n",
    "grid.fit(X_transf.select_dtypes(include=np.number), y)\n",
    "res = resultize(grid, log_target=0, transf=1, features=\"only_num\")\n",
    "RES = pd.concat([RES, res], axis=0, ignore_index=True)\n",
    "display(res.head())\n",
    "\n",
    "grid = GridSearchCV(\n",
    "    pipe, param_grid=param_grid, cv=10, n_jobs=-1, verbose=1, return_train_score=True\n",
    ")\n",
    "grid.fit(pd.get_dummies(X_transf), y)\n",
    "res = resultize(grid, log_target=0, transf=1, features=\"dummies\")\n",
    "RES = pd.concat([RES, res], axis=0, ignore_index=True)\n",
    "display(res.head())"
   ]
  },
  {
   "cell_type": "code",
   "execution_count": null,
   "metadata": {},
   "outputs": [],
   "source": []
  },
  {
   "cell_type": "code",
   "execution_count": null,
   "metadata": {},
   "outputs": [],
   "source": [
    "RES = RES.loc[RES.log_target == 0]\n",
    "RES.sort_values(\"mean_test_score\", ascending=False)"
   ]
  },
  {
   "cell_type": "code",
   "execution_count": null,
   "metadata": {},
   "outputs": [],
   "source": [
    "df = Data.Load.food(False)\n",
    "DF = df.copy()\n",
    "df"
   ]
  },
  {
   "cell_type": "code",
   "execution_count": null,
   "metadata": {},
   "outputs": [],
   "source": [
    "df = DF.copy()"
   ]
  },
  {
   "cell_type": "code",
   "execution_count": null,
   "metadata": {},
   "outputs": [],
   "source": [
    "df.product_name = df.product_name.fillna(\"unknown\")\n"
   ]
  },
  {
   "cell_type": "code",
   "execution_count": null,
   "metadata": {},
   "outputs": [],
   "source": [
    "\n",
    "df.loc[df.product_name.str.lower().str.contains(\"nutell\")]"
   ]
  },
  {
   "cell_type": "code",
   "execution_count": null,
   "metadata": {},
   "outputs": [],
   "source": []
  },
  {
   "cell_type": "code",
   "execution_count": null,
   "metadata": {},
   "outputs": [],
   "source": [
    "cols = ['energy_100g', 'fat_100g',\n",
    "       'saturated-fat_100g', 'carbohydrates_100g', 'sugars_100g', 'fiber_100g',\n",
    "       'proteins_100g', 'salt_100g', 'sodium_100g', ]\n",
    "df = df.dropna(axis=0, how=\"all\", subset=cols)\n",
    "\n",
    "\n",
    "cols = [\"product_name\", 'additives_n', \n",
    "'ingredients_from_palm_oil_n', 'nutrition_grade_fr', 'pnns_groups_1',\n",
    "'energy_100g', 'fat_100g',\n",
    "'saturated-fat_100g', 'carbohydrates_100g', 'sugars_100g', 'fiber_100g',\n",
    "'proteins_100g', 'salt_100g', 'nutrition-score-fr_100g', ]\n",
    "\n",
    "\n",
    "\n",
    "\n",
    "df.product_name = df.product_name.fillna(\"unknown\")\n",
    "df = df.loc[:, cols]\n",
    "df"
   ]
  },
  {
   "cell_type": "code",
   "execution_count": null,
   "metadata": {},
   "outputs": [],
   "source": [
    "df.loc[df.product_name.str.lower().str.contains(\"nutell\")]"
   ]
  },
  {
   "cell_type": "code",
   "execution_count": null,
   "metadata": {},
   "outputs": [],
   "source": [
    "x= df.iloc[:, -9:-1]\n",
    "x"
   ]
  },
  {
   "cell_type": "code",
   "execution_count": null,
   "metadata": {},
   "outputs": [],
   "source": [
    "x = SimpleImputer(strategy=\"median\").fit_transform(x)\n",
    "ee = EllipticEnvelope().fit_predict(x)\n",
    "# pd.Series(ee).value_counts()\n",
    "\n",
    "\n",
    "ee= [True if i == 1 else False for i in ee ]\n",
    "pd.Series(ee).value_counts().round(2)"
   ]
  },
  {
   "cell_type": "code",
   "execution_count": null,
   "metadata": {},
   "outputs": [],
   "source": [
    "len(ee)"
   ]
  },
  {
   "cell_type": "code",
   "execution_count": null,
   "metadata": {},
   "outputs": [],
   "source": [
    "len(df)"
   ]
  },
  {
   "cell_type": "code",
   "execution_count": null,
   "metadata": {},
   "outputs": [],
   "source": [
    "df = df.loc[ ee , :  ]\n",
    "df"
   ]
  },
  {
   "cell_type": "code",
   "execution_count": null,
   "metadata": {},
   "outputs": [],
   "source": [
    "norm = df.loc[df.nutrition_grade_fr.notna()]\n",
    "norm.describe().round(1)"
   ]
  },
  {
   "cell_type": "code",
   "execution_count": null,
   "metadata": {},
   "outputs": [],
   "source": [
    "df.nutrition_grade_fr  = df.nutrition_grade_fr.fillna('zz')"
   ]
  },
  {
   "cell_type": "code",
   "execution_count": null,
   "metadata": {},
   "outputs": [],
   "source": [
    "_df = df.copy()\n",
    "_df = _df.sort_values(\"nutrition_grade_fr\")\n",
    "_df[\"is_zz\"]= _df.nutrition_grade_fr==\"zz\"\n",
    "\n",
    "px.box(_df, x=\"pnns_groups_1\", y =\"energy_100g\")"
   ]
  },
  {
   "cell_type": "code",
   "execution_count": null,
   "metadata": {},
   "outputs": [],
   "source": [
    "\n",
    "px.box(_df, x=\"is_zz\", y =\"energy_100g\")"
   ]
  },
  {
   "cell_type": "code",
   "execution_count": null,
   "metadata": {},
   "outputs": [],
   "source": [
    "px.box(_df, x=\"is_zz\", y =\"sugars_100g\")"
   ]
  },
  {
   "cell_type": "code",
   "execution_count": null,
   "metadata": {},
   "outputs": [],
   "source": [
    "px.box(_df, x=\"is_zz\", y =\"fat_100g\")"
   ]
  },
  {
   "cell_type": "code",
   "execution_count": null,
   "metadata": {},
   "outputs": [],
   "source": [
    "px.box(_df, color=\"is_zz\", y =\"energy_100g\" ,x=\"pnns_groups_1\")"
   ]
  },
  {
   "cell_type": "code",
   "execution_count": null,
   "metadata": {},
   "outputs": [],
   "source": [
    "px.box(_df, color=\"is_zz\", y =\"sugars_100g\" ,x=\"pnns_groups_1\")"
   ]
  },
  {
   "cell_type": "code",
   "execution_count": null,
   "metadata": {},
   "outputs": [],
   "source": [
    "px.box(_df, color=\"is_zz\", y =\"fat_100g\" ,x=\"pnns_groups_1\")\n"
   ]
  },
  {
   "cell_type": "code",
   "execution_count": null,
   "metadata": {},
   "outputs": [],
   "source": [
    "px.box(_df, color=\"is_zz\", y =\"sugars_100g\" ,x=\"pnns_groups_1\")"
   ]
  },
  {
   "cell_type": "code",
   "execution_count": null,
   "metadata": {},
   "outputs": [],
   "source": [
    "px.box(_df, x=\"nutrition_grade_fr\", y =\"fat_100g\" )"
   ]
  },
  {
   "cell_type": "code",
   "execution_count": null,
   "metadata": {},
   "outputs": [],
   "source": [
    "_df = df.loc[df.nutrition_grade_fr.notna()]\n",
    "_df = _df.sort_values(\"nutrition_grade_fr\")\n",
    "px.box(_df, x=\"nutrition_grade_fr\", y =\"fat_100g\" )"
   ]
  },
  {
   "cell_type": "code",
   "execution_count": null,
   "metadata": {},
   "outputs": [],
   "source": [
    "df.product_name = df.product_name.fillna(\"unknown\")\n",
    "\n",
    "# df.product_name = df.product_name.apply(clean)\n",
    "# df.product_name = df.product_name.apply(lambda i : i.lower())\n",
    "df.product_name = df.product_name.str.lower()\n",
    "df"
   ]
  },
  {
   "cell_type": "code",
   "execution_count": null,
   "metadata": {},
   "outputs": [],
   "source": [
    "_df = df.copy()\n",
    "\n",
    "_df = _df.loc[df.product_name.str.startswith(\"huile\"), :]\n",
    "_df = _df.loc[df.product_name.str.contains(\"olive\"), :]\n",
    "\n",
    "_df = _df.loc[_df.energy_100g.notna()]\n",
    "_df"
   ]
  },
  {
   "cell_type": "code",
   "execution_count": null,
   "metadata": {},
   "outputs": [],
   "source": [
    "_df = _df.loc[_df.energy_100g.notna()\n",
    "              ]\n",
    "_df"
   ]
  },
  {
   "cell_type": "code",
   "execution_count": null,
   "metadata": {},
   "outputs": [],
   "source": [
    "px.box(_df.energy_100g)"
   ]
  },
  {
   "cell_type": "code",
   "execution_count": null,
   "metadata": {},
   "outputs": [],
   "source": []
  },
  {
   "cell_type": "code",
   "execution_count": null,
   "metadata": {},
   "outputs": [],
   "source": [
    "numeric_features = [\"age\", \"fare\"]\n",
    "categorical_features = [\"embarked\", \"sex\", \"pclass\"]\n",
    "\n",
    "\n",
    "# numeric_transformer = Pipeline(\n",
    "#     steps=[(\"imputer\", KNNImputer()), \n",
    "#            (\"scaler\", StandardScaler())]\n",
    "# )\n",
    "numeric_transformer = Pipeline(\n",
    "    steps=[(\"passthrough\", \"passthrough\"), \n",
    "        #    (\"scaler\", StandardScaler()), \n",
    "           ]\n",
    ")\n",
    "\n",
    "categorical_transformer = Pipeline(\n",
    "    steps=[\n",
    "        (\"encoder\", OneHotEncoder(handle_unknown=\"ignore\")),\n",
    "        # (\"selector\", SelectPercentile(chi2, percentile=50)),\n",
    "    ]\n",
    ")\n",
    "preprocessor = ColumnTransformer(\n",
    "    transformers=[\n",
    "        (\"num\", numeric_transformer, numeric_features),\n",
    "        (\"cat\", categorical_transformer, categorical_features),\n",
    "    ]\n",
    ")\n",
    "\n",
    "preprocessor"
   ]
  },
  {
   "cell_type": "code",
   "execution_count": null,
   "metadata": {},
   "outputs": [],
   "source": [
    "preprocessor"
   ]
  },
  {
   "cell_type": "code",
   "execution_count": null,
   "metadata": {},
   "outputs": [],
   "source": [
    "pipe = Pipeline(\n",
    "    [\n",
    "        # (\"sampler\", RandomUnderSampler()),\n",
    "        (\"preprocessor\", preprocessor)\n",
    "        (\"imputer\", KNNImputer()),\n",
    "        (\"scaler\", StandardScaler()),\n",
    "        (\"estimator\", LogisticRegression()),\n",
    "    ]\n",
    ")\n",
    "\n",
    "\n",
    "\n",
    "\n",
    "\n",
    "y \n",
    "y_log\n",
    "\n",
    "X_log  = mis au log certains features =)=> \n",
    "X_raw =  ans log feats\n",
    "\n",
    "\n",
    "1 / modeles + simple > compiqué \n",
    "\n",
    "    * dummy \n",
    "    * regreslion lineaire que numérique pourie  (baseline )\n",
    "    * gtravailler sur pipes diiférents / estifmateurs metatprametre y log sans log X raw X log \n",
    "    ==> 1 OU plusieurs modeles performats\n",
    "\n",
    "\n",
    "2/ impact energy star score\n",
    "    la version ou tu jette Energy star SCORERS\n",
    "    La verison ou tu gardes enrgy star socre (==> KNNIMPUTER)"
   ]
  },
  {
   "cell_type": "code",
   "execution_count": null,
   "metadata": {},
   "outputs": [],
   "source": [
    "1 / modeles + simple > compiqué \n",
    "\n",
    "    * dummy \n",
    "    * regreslion lineaire que numérique pourie  (baseline )\n",
    "    * gtravailler sur pipes diiférents / estifmateurs metatprametre y log sans log X raw X log \n",
    "    ==> 1 OU plusieurs modeles performats\n",
    "\n",
    "\n",
    "2/ impact energy star score\n",
    "    la version ou tu jette Energy star SCORERS\n",
    "    La verison ou tu gardes enrgy star socre (==> KNNIMPUTER)"
   ]
  }
 ],
 "metadata": {
  "kernelspec": {
   "display_name": "env",
   "language": "python",
   "name": "python3"
  },
  "language_info": {
   "codemirror_mode": {
    "name": "ipython",
    "version": 3
   },
   "file_extension": ".py",
   "mimetype": "text/x-python",
   "name": "python",
   "nbconvert_exporter": "python",
   "pygments_lexer": "ipython3",
   "version": "3.10.9"
  },
  "orig_nbformat": 4,
  "vscode": {
   "interpreter": {
    "hash": "90888629e184d1d83dcac18ada7cfabe6087e4d52330dcc8dcea5972745896aa"
   }
  }
 },
 "nbformat": 4,
 "nbformat_minor": 2
}
