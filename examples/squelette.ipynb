{
 "cells": [
  {
   "attachments": {},
   "cell_type": "markdown",
   "metadata": {},
   "source": [
    "# 1 Preliminaries"
   ]
  },
  {
   "attachments": {},
   "cell_type": "markdown",
   "metadata": {},
   "source": [
    "## 1.1 System"
   ]
  },
  {
   "cell_type": "code",
   "execution_count": 1,
   "metadata": {},
   "outputs": [
    {
     "data": {
      "text/plain": [
       "'/home/alex/gargaml/examples'"
      ]
     },
     "execution_count": 1,
     "metadata": {},
     "output_type": "execute_result"
    }
   ],
   "source": [
    "pwd"
   ]
  },
  {
   "cell_type": "code",
   "execution_count": 2,
   "metadata": {},
   "outputs": [
    {
     "name": "stdout",
     "output_type": "stream",
     "text": [
      "/home/alex/gargaml\n"
     ]
    }
   ],
   "source": [
    "cd .."
   ]
  },
  {
   "cell_type": "code",
   "execution_count": 3,
   "metadata": {},
   "outputs": [
    {
     "data": {
      "text/plain": [
       "'/home/alex/gargaml'"
      ]
     },
     "execution_count": 3,
     "metadata": {},
     "output_type": "execute_result"
    }
   ],
   "source": [
    "pwd"
   ]
  },
  {
   "cell_type": "code",
   "execution_count": 4,
   "metadata": {},
   "outputs": [
    {
     "name": "stdout",
     "output_type": "stream",
     "text": [
      "CHANGELOG.md  \u001b[0m\u001b[01;34mexamples\u001b[0m/  pyproject.toml    setup.py  \u001b[01;34mutils\u001b[0m/\n",
      "\u001b[01;34mdocs\u001b[0m/         \u001b[01;34mgargaml\u001b[0m/   README.md         \u001b[01;34msrc\u001b[0m/\n",
      "\u001b[01;34menv\u001b[0m/          LICENSE    requirements.txt  \u001b[01;34mtests\u001b[0m/\n"
     ]
    }
   ],
   "source": [
    "ls"
   ]
  },
  {
   "cell_type": "code",
   "execution_count": 5,
   "metadata": {},
   "outputs": [
    {
     "name": "stdout",
     "output_type": "stream",
     "text": [
      "Linux asus2023 6.2.0-20-generic #20-Ubuntu SMP PREEMPT_DYNAMIC Thu Apr  6 07:48:48 UTC 2023 x86_64 x86_64 x86_64 GNU/Linux\n"
     ]
    }
   ],
   "source": [
    "!uname -a"
   ]
  },
  {
   "cell_type": "code",
   "execution_count": 6,
   "metadata": {},
   "outputs": [
    {
     "name": "stdout",
     "output_type": "stream",
     "text": [
      "/home/alex/gargaml/env/bin/python\n"
     ]
    }
   ],
   "source": [
    "!which python"
   ]
  },
  {
   "attachments": {},
   "cell_type": "markdown",
   "metadata": {},
   "source": [
    "## 1.2 Install"
   ]
  },
  {
   "cell_type": "code",
   "execution_count": null,
   "metadata": {},
   "outputs": [],
   "source": [
    "# !pip install -r requirements.txt"
   ]
  },
  {
   "cell_type": "code",
   "execution_count": null,
   "metadata": {},
   "outputs": [],
   "source": [
    "# !pip freeze > requirements.freeze"
   ]
  },
  {
   "attachments": {},
   "cell_type": "markdown",
   "metadata": {},
   "source": [
    "## 1.3 Import"
   ]
  },
  {
   "cell_type": "code",
   "execution_count": 7,
   "metadata": {},
   "outputs": [
    {
     "name": "stderr",
     "output_type": "stream",
     "text": [
      "WARNING:root:path is /home/alex/gargaml\n"
     ]
    }
   ],
   "source": [
    "from gargaml import * "
   ]
  },
  {
   "cell_type": "code",
   "execution_count": null,
   "metadata": {},
   "outputs": [],
   "source": [
    "import random, os, sys, warnings, datetime, time, logging\n",
    "from IPython.display import display\n",
    "# pandarallel\n",
    "\n",
    "import pandas as pd\n",
    "import numpy as np\n",
    "\n",
    "import scipy as sp\n",
    "import scipy.stats as st\n",
    "\n",
    "import matplotlib.pyplot as plt\n",
    "import seaborn as sns\n",
    "import plotly.express as px\n",
    "from plotly.subplots import make_subplots\n",
    "import plotly.graph_objects as go\n",
    "import missingno as msno\n",
    "\n",
    "\n",
    "from sklearn.base import *\n",
    "\n",
    "from sklearn.feature_selection import *\n",
    "from sklearn.feature_extraction import *\n",
    "from sklearn.preprocessing import *\n",
    "from sklearn.pipeline import *\n",
    "from sklearn.covariance import *\n",
    "from sklearn.decomposition import *\n",
    "from sklearn.model_selection import *\n",
    "from sklearn.impute import *\n",
    "from sklearn.metrics import * \n",
    "from sklearn.cluster import * \n",
    "from sklearn.compose import *\n",
    "\n",
    "from sklearn.dummy import *\n",
    "from sklearn.linear_model import *\n",
    "from sklearn.svm import *\n",
    "from sklearn.neighbors import *\n",
    "from sklearn.ensemble import *\n",
    "\n",
    "\n",
    "from imblearn.under_sampling import RandomUnderSampler\n",
    "from imblearn.pipeline import Pipeline\n",
    "\n",
    "# from xgboost import XGBRegressor, XGBRFRegressor"
   ]
  },
  {
   "attachments": {},
   "cell_type": "markdown",
   "metadata": {},
   "source": [
    "## 1.4 Data"
   ]
  },
  {
   "cell_type": "code",
   "execution_count": 17,
   "metadata": {},
   "outputs": [
    {
     "data": {
      "text/html": [
       "<div>\n",
       "<style scoped>\n",
       "    .dataframe tbody tr th:only-of-type {\n",
       "        vertical-align: middle;\n",
       "    }\n",
       "\n",
       "    .dataframe tbody tr th {\n",
       "        vertical-align: top;\n",
       "    }\n",
       "\n",
       "    .dataframe thead th {\n",
       "        text-align: right;\n",
       "    }\n",
       "</style>\n",
       "<table border=\"1\" class=\"dataframe\">\n",
       "  <thead>\n",
       "    <tr style=\"text-align: right;\">\n",
       "      <th></th>\n",
       "      <th>medinc</th>\n",
       "      <th>houseage</th>\n",
       "      <th>averooms</th>\n",
       "      <th>avebedrms</th>\n",
       "      <th>population</th>\n",
       "      <th>aveoccup</th>\n",
       "      <th>latitude</th>\n",
       "      <th>longitude</th>\n",
       "      <th>target</th>\n",
       "    </tr>\n",
       "  </thead>\n",
       "  <tbody>\n",
       "    <tr>\n",
       "      <th>0</th>\n",
       "      <td>8.3252</td>\n",
       "      <td>41.0</td>\n",
       "      <td>6.984127</td>\n",
       "      <td>1.02381</td>\n",
       "      <td>322.0</td>\n",
       "      <td>2.555556</td>\n",
       "      <td>37.88</td>\n",
       "      <td>-122.23</td>\n",
       "      <td>4.526</td>\n",
       "    </tr>\n",
       "    <tr>\n",
       "      <th>1</th>\n",
       "      <td>8.3014</td>\n",
       "      <td>21.0</td>\n",
       "      <td>6.238137</td>\n",
       "      <td>0.97188</td>\n",
       "      <td>2401.0</td>\n",
       "      <td>2.109842</td>\n",
       "      <td>37.86</td>\n",
       "      <td>-122.22</td>\n",
       "      <td>3.585</td>\n",
       "    </tr>\n",
       "  </tbody>\n",
       "</table>\n",
       "</div>"
      ],
      "text/plain": [
       "   medinc  houseage  averooms  avebedrms  population  aveoccup  latitude   \n",
       "0  8.3252      41.0  6.984127    1.02381       322.0  2.555556     37.88  \\\n",
       "1  8.3014      21.0  6.238137    0.97188      2401.0  2.109842     37.86   \n",
       "\n",
       "   longitude  target  \n",
       "0    -122.23   4.526  \n",
       "1    -122.22   3.585  "
      ]
     },
     "execution_count": 17,
     "metadata": {},
     "output_type": "execute_result"
    }
   ],
   "source": [
    "# df = Loads.ames(X_y=False, nan_rate=0.3)\n",
    "df = Loads.ames(X_y=False)\n",
    "\n",
    "df.head(2)"
   ]
  },
  {
   "cell_type": "code",
   "execution_count": null,
   "metadata": {},
   "outputs": [],
   "source": []
  },
  {
   "attachments": {},
   "cell_type": "markdown",
   "metadata": {},
   "source": [
    "## 1.5 Options and Graphics "
   ]
  },
  {
   "cell_type": "code",
   "execution_count": 18,
   "metadata": {},
   "outputs": [],
   "source": [
    "sns.set()"
   ]
  },
  {
   "cell_type": "code",
   "execution_count": 19,
   "metadata": {},
   "outputs": [],
   "source": [
    "DISPLAY = True\n",
    "FRAC = 1.0\n",
    "LAZY = False"
   ]
  },
  {
   "cell_type": "code",
   "execution_count": 20,
   "metadata": {},
   "outputs": [],
   "source": [
    "# warnings.filterwarnings('ignore')\n",
    "warnings.filterwarnings(action=\"once\")"
   ]
  },
  {
   "cell_type": "code",
   "execution_count": 21,
   "metadata": {},
   "outputs": [],
   "source": [
    "# set svg for px"
   ]
  },
  {
   "attachments": {},
   "cell_type": "markdown",
   "metadata": {},
   "source": [
    "## 1.6 Third parties and utils"
   ]
  },
  {
   "cell_type": "code",
   "execution_count": 22,
   "metadata": {},
   "outputs": [],
   "source": [
    "# nlp or other"
   ]
  },
  {
   "cell_type": "code",
   "execution_count": null,
   "metadata": {},
   "outputs": [],
   "source": []
  },
  {
   "attachments": {},
   "cell_type": "markdown",
   "metadata": {},
   "source": [
    "## 1.7 Functions and class"
   ]
  },
  {
   "cell_type": "code",
   "execution_count": 23,
   "metadata": {},
   "outputs": [],
   "source": [
    "# local functions"
   ]
  },
  {
   "attachments": {},
   "cell_type": "markdown",
   "metadata": {},
   "source": [
    "# 2 First Tour"
   ]
  },
  {
   "attachments": {},
   "cell_type": "markdown",
   "metadata": {},
   "source": [
    "## 2.1 Display"
   ]
  },
  {
   "cell_type": "code",
   "execution_count": 24,
   "metadata": {},
   "outputs": [
    {
     "data": {
      "text/html": [
       "<div>\n",
       "<style scoped>\n",
       "    .dataframe tbody tr th:only-of-type {\n",
       "        vertical-align: middle;\n",
       "    }\n",
       "\n",
       "    .dataframe tbody tr th {\n",
       "        vertical-align: top;\n",
       "    }\n",
       "\n",
       "    .dataframe thead th {\n",
       "        text-align: right;\n",
       "    }\n",
       "</style>\n",
       "<table border=\"1\" class=\"dataframe\">\n",
       "  <thead>\n",
       "    <tr style=\"text-align: right;\">\n",
       "      <th>----HEAD ----</th>\n",
       "      <th>medinc</th>\n",
       "      <th>houseage</th>\n",
       "      <th>averooms</th>\n",
       "      <th>avebedrms</th>\n",
       "      <th>population</th>\n",
       "      <th>aveoccup</th>\n",
       "      <th>latitude</th>\n",
       "      <th>longitude</th>\n",
       "      <th>target</th>\n",
       "    </tr>\n",
       "  </thead>\n",
       "  <tbody>\n",
       "    <tr>\n",
       "      <th>0</th>\n",
       "      <td>8.3252</td>\n",
       "      <td>41.0</td>\n",
       "      <td>6.984127</td>\n",
       "      <td>1.023810</td>\n",
       "      <td>322.0</td>\n",
       "      <td>2.555556</td>\n",
       "      <td>37.88</td>\n",
       "      <td>-122.23</td>\n",
       "      <td>4.526</td>\n",
       "    </tr>\n",
       "    <tr>\n",
       "      <th>1</th>\n",
       "      <td>8.3014</td>\n",
       "      <td>21.0</td>\n",
       "      <td>6.238137</td>\n",
       "      <td>0.971880</td>\n",
       "      <td>2401.0</td>\n",
       "      <td>2.109842</td>\n",
       "      <td>37.86</td>\n",
       "      <td>-122.22</td>\n",
       "      <td>3.585</td>\n",
       "    </tr>\n",
       "    <tr>\n",
       "      <th>2</th>\n",
       "      <td>7.2574</td>\n",
       "      <td>52.0</td>\n",
       "      <td>8.288136</td>\n",
       "      <td>1.073446</td>\n",
       "      <td>496.0</td>\n",
       "      <td>2.802260</td>\n",
       "      <td>37.85</td>\n",
       "      <td>-122.24</td>\n",
       "      <td>3.521</td>\n",
       "    </tr>\n",
       "    <tr>\n",
       "      <th>3</th>\n",
       "      <td>5.6431</td>\n",
       "      <td>52.0</td>\n",
       "      <td>5.817352</td>\n",
       "      <td>1.073059</td>\n",
       "      <td>558.0</td>\n",
       "      <td>2.547945</td>\n",
       "      <td>37.85</td>\n",
       "      <td>-122.25</td>\n",
       "      <td>3.413</td>\n",
       "    </tr>\n",
       "    <tr>\n",
       "      <th>4</th>\n",
       "      <td>3.8462</td>\n",
       "      <td>52.0</td>\n",
       "      <td>6.281853</td>\n",
       "      <td>1.081081</td>\n",
       "      <td>565.0</td>\n",
       "      <td>2.181467</td>\n",
       "      <td>37.85</td>\n",
       "      <td>-122.25</td>\n",
       "      <td>3.422</td>\n",
       "    </tr>\n",
       "  </tbody>\n",
       "</table>\n",
       "</div>"
      ],
      "text/plain": [
       "----HEAD ----  medinc  houseage  averooms  avebedrms  population  aveoccup   \n",
       "0              8.3252      41.0  6.984127   1.023810       322.0  2.555556  \\\n",
       "1              8.3014      21.0  6.238137   0.971880      2401.0  2.109842   \n",
       "2              7.2574      52.0  8.288136   1.073446       496.0  2.802260   \n",
       "3              5.6431      52.0  5.817352   1.073059       558.0  2.547945   \n",
       "4              3.8462      52.0  6.281853   1.081081       565.0  2.181467   \n",
       "\n",
       "----HEAD ----  latitude  longitude  target  \n",
       "0                 37.88    -122.23   4.526  \n",
       "1                 37.86    -122.22   3.585  \n",
       "2                 37.85    -122.24   3.521  \n",
       "3                 37.85    -122.25   3.413  \n",
       "4                 37.85    -122.25   3.422  "
      ]
     },
     "metadata": {},
     "output_type": "display_data"
    },
    {
     "name": "stdout",
     "output_type": "stream",
     "text": [
      "\n",
      "\n"
     ]
    },
    {
     "data": {
      "text/html": [
       "<div>\n",
       "<style scoped>\n",
       "    .dataframe tbody tr th:only-of-type {\n",
       "        vertical-align: middle;\n",
       "    }\n",
       "\n",
       "    .dataframe tbody tr th {\n",
       "        vertical-align: top;\n",
       "    }\n",
       "\n",
       "    .dataframe thead th {\n",
       "        text-align: right;\n",
       "    }\n",
       "</style>\n",
       "<table border=\"1\" class=\"dataframe\">\n",
       "  <thead>\n",
       "    <tr style=\"text-align: right;\">\n",
       "      <th>----SAMP ----</th>\n",
       "      <th>medinc</th>\n",
       "      <th>houseage</th>\n",
       "      <th>averooms</th>\n",
       "      <th>avebedrms</th>\n",
       "      <th>population</th>\n",
       "      <th>aveoccup</th>\n",
       "      <th>latitude</th>\n",
       "      <th>longitude</th>\n",
       "      <th>target</th>\n",
       "    </tr>\n",
       "  </thead>\n",
       "  <tbody>\n",
       "    <tr>\n",
       "      <th>12885</th>\n",
       "      <td>2.7011</td>\n",
       "      <td>8.0</td>\n",
       "      <td>4.291990</td>\n",
       "      <td>1.040052</td>\n",
       "      <td>1694.0</td>\n",
       "      <td>2.188630</td>\n",
       "      <td>38.66</td>\n",
       "      <td>-121.35</td>\n",
       "      <td>1.30700</td>\n",
       "    </tr>\n",
       "    <tr>\n",
       "      <th>268</th>\n",
       "      <td>4.3125</td>\n",
       "      <td>52.0</td>\n",
       "      <td>6.645333</td>\n",
       "      <td>1.106667</td>\n",
       "      <td>1109.0</td>\n",
       "      <td>2.957333</td>\n",
       "      <td>37.78</td>\n",
       "      <td>-122.19</td>\n",
       "      <td>1.64400</td>\n",
       "    </tr>\n",
       "    <tr>\n",
       "      <th>7836</th>\n",
       "      <td>2.3456</td>\n",
       "      <td>25.0</td>\n",
       "      <td>4.049310</td>\n",
       "      <td>1.140039</td>\n",
       "      <td>1721.0</td>\n",
       "      <td>3.394477</td>\n",
       "      <td>33.91</td>\n",
       "      <td>-118.15</td>\n",
       "      <td>1.46100</td>\n",
       "    </tr>\n",
       "    <tr>\n",
       "      <th>7945</th>\n",
       "      <td>4.3942</td>\n",
       "      <td>44.0</td>\n",
       "      <td>5.206897</td>\n",
       "      <td>0.987461</td>\n",
       "      <td>985.0</td>\n",
       "      <td>3.087774</td>\n",
       "      <td>33.87</td>\n",
       "      <td>-118.14</td>\n",
       "      <td>2.19500</td>\n",
       "    </tr>\n",
       "    <tr>\n",
       "      <th>17290</th>\n",
       "      <td>5.6230</td>\n",
       "      <td>34.0</td>\n",
       "      <td>6.239754</td>\n",
       "      <td>1.168033</td>\n",
       "      <td>1002.0</td>\n",
       "      <td>2.053279</td>\n",
       "      <td>34.43</td>\n",
       "      <td>-119.64</td>\n",
       "      <td>5.00001</td>\n",
       "    </tr>\n",
       "    <tr>\n",
       "      <th>14256</th>\n",
       "      <td>1.7000</td>\n",
       "      <td>30.0</td>\n",
       "      <td>3.758696</td>\n",
       "      <td>0.993478</td>\n",
       "      <td>1673.0</td>\n",
       "      <td>3.636957</td>\n",
       "      <td>32.71</td>\n",
       "      <td>-117.11</td>\n",
       "      <td>0.85900</td>\n",
       "    </tr>\n",
       "    <tr>\n",
       "      <th>6511</th>\n",
       "      <td>2.3929</td>\n",
       "      <td>30.0</td>\n",
       "      <td>3.340087</td>\n",
       "      <td>0.975398</td>\n",
       "      <td>3034.0</td>\n",
       "      <td>4.390738</td>\n",
       "      <td>34.07</td>\n",
       "      <td>-118.06</td>\n",
       "      <td>1.84400</td>\n",
       "    </tr>\n",
       "    <tr>\n",
       "      <th>5383</th>\n",
       "      <td>3.1160</td>\n",
       "      <td>19.0</td>\n",
       "      <td>3.403451</td>\n",
       "      <td>1.087220</td>\n",
       "      <td>3870.0</td>\n",
       "      <td>1.805037</td>\n",
       "      <td>34.02</td>\n",
       "      <td>-118.40</td>\n",
       "      <td>3.00000</td>\n",
       "    </tr>\n",
       "    <tr>\n",
       "      <th>2872</th>\n",
       "      <td>1.6728</td>\n",
       "      <td>37.0</td>\n",
       "      <td>5.000000</td>\n",
       "      <td>1.108475</td>\n",
       "      <td>946.0</td>\n",
       "      <td>3.206780</td>\n",
       "      <td>35.37</td>\n",
       "      <td>-118.95</td>\n",
       "      <td>0.55400</td>\n",
       "    </tr>\n",
       "    <tr>\n",
       "      <th>3402</th>\n",
       "      <td>6.2037</td>\n",
       "      <td>32.0</td>\n",
       "      <td>5.345133</td>\n",
       "      <td>0.955752</td>\n",
       "      <td>314.0</td>\n",
       "      <td>2.778761</td>\n",
       "      <td>34.27</td>\n",
       "      <td>-118.35</td>\n",
       "      <td>2.05400</td>\n",
       "    </tr>\n",
       "  </tbody>\n",
       "</table>\n",
       "</div>"
      ],
      "text/plain": [
       "----SAMP ----  medinc  houseage  averooms  avebedrms  population  aveoccup   \n",
       "12885          2.7011       8.0  4.291990   1.040052      1694.0  2.188630  \\\n",
       "268            4.3125      52.0  6.645333   1.106667      1109.0  2.957333   \n",
       "7836           2.3456      25.0  4.049310   1.140039      1721.0  3.394477   \n",
       "7945           4.3942      44.0  5.206897   0.987461       985.0  3.087774   \n",
       "17290          5.6230      34.0  6.239754   1.168033      1002.0  2.053279   \n",
       "14256          1.7000      30.0  3.758696   0.993478      1673.0  3.636957   \n",
       "6511           2.3929      30.0  3.340087   0.975398      3034.0  4.390738   \n",
       "5383           3.1160      19.0  3.403451   1.087220      3870.0  1.805037   \n",
       "2872           1.6728      37.0  5.000000   1.108475       946.0  3.206780   \n",
       "3402           6.2037      32.0  5.345133   0.955752       314.0  2.778761   \n",
       "\n",
       "----SAMP ----  latitude  longitude   target  \n",
       "12885             38.66    -121.35  1.30700  \n",
       "268               37.78    -122.19  1.64400  \n",
       "7836              33.91    -118.15  1.46100  \n",
       "7945              33.87    -118.14  2.19500  \n",
       "17290             34.43    -119.64  5.00001  \n",
       "14256             32.71    -117.11  0.85900  \n",
       "6511              34.07    -118.06  1.84400  \n",
       "5383              34.02    -118.40  3.00000  \n",
       "2872              35.37    -118.95  0.55400  \n",
       "3402              34.27    -118.35  2.05400  "
      ]
     },
     "metadata": {},
     "output_type": "display_data"
    },
    {
     "name": "stdout",
     "output_type": "stream",
     "text": [
      "\n",
      "\n"
     ]
    },
    {
     "data": {
      "text/html": [
       "<div>\n",
       "<style scoped>\n",
       "    .dataframe tbody tr th:only-of-type {\n",
       "        vertical-align: middle;\n",
       "    }\n",
       "\n",
       "    .dataframe tbody tr th {\n",
       "        vertical-align: top;\n",
       "    }\n",
       "\n",
       "    .dataframe thead th {\n",
       "        text-align: right;\n",
       "    }\n",
       "</style>\n",
       "<table border=\"1\" class=\"dataframe\">\n",
       "  <thead>\n",
       "    <tr style=\"text-align: right;\">\n",
       "      <th>----TAIL ----</th>\n",
       "      <th>medinc</th>\n",
       "      <th>houseage</th>\n",
       "      <th>averooms</th>\n",
       "      <th>avebedrms</th>\n",
       "      <th>population</th>\n",
       "      <th>aveoccup</th>\n",
       "      <th>latitude</th>\n",
       "      <th>longitude</th>\n",
       "      <th>target</th>\n",
       "    </tr>\n",
       "  </thead>\n",
       "  <tbody>\n",
       "    <tr>\n",
       "      <th>20635</th>\n",
       "      <td>1.5603</td>\n",
       "      <td>25.0</td>\n",
       "      <td>5.045455</td>\n",
       "      <td>1.133333</td>\n",
       "      <td>845.0</td>\n",
       "      <td>2.560606</td>\n",
       "      <td>39.48</td>\n",
       "      <td>-121.09</td>\n",
       "      <td>0.781</td>\n",
       "    </tr>\n",
       "    <tr>\n",
       "      <th>20636</th>\n",
       "      <td>2.5568</td>\n",
       "      <td>18.0</td>\n",
       "      <td>6.114035</td>\n",
       "      <td>1.315789</td>\n",
       "      <td>356.0</td>\n",
       "      <td>3.122807</td>\n",
       "      <td>39.49</td>\n",
       "      <td>-121.21</td>\n",
       "      <td>0.771</td>\n",
       "    </tr>\n",
       "    <tr>\n",
       "      <th>20637</th>\n",
       "      <td>1.7000</td>\n",
       "      <td>17.0</td>\n",
       "      <td>5.205543</td>\n",
       "      <td>1.120092</td>\n",
       "      <td>1007.0</td>\n",
       "      <td>2.325635</td>\n",
       "      <td>39.43</td>\n",
       "      <td>-121.22</td>\n",
       "      <td>0.923</td>\n",
       "    </tr>\n",
       "    <tr>\n",
       "      <th>20638</th>\n",
       "      <td>1.8672</td>\n",
       "      <td>18.0</td>\n",
       "      <td>5.329513</td>\n",
       "      <td>1.171920</td>\n",
       "      <td>741.0</td>\n",
       "      <td>2.123209</td>\n",
       "      <td>39.43</td>\n",
       "      <td>-121.32</td>\n",
       "      <td>0.847</td>\n",
       "    </tr>\n",
       "    <tr>\n",
       "      <th>20639</th>\n",
       "      <td>2.3886</td>\n",
       "      <td>16.0</td>\n",
       "      <td>5.254717</td>\n",
       "      <td>1.162264</td>\n",
       "      <td>1387.0</td>\n",
       "      <td>2.616981</td>\n",
       "      <td>39.37</td>\n",
       "      <td>-121.24</td>\n",
       "      <td>0.894</td>\n",
       "    </tr>\n",
       "  </tbody>\n",
       "</table>\n",
       "</div>"
      ],
      "text/plain": [
       "----TAIL ----  medinc  houseage  averooms  avebedrms  population  aveoccup   \n",
       "20635          1.5603      25.0  5.045455   1.133333       845.0  2.560606  \\\n",
       "20636          2.5568      18.0  6.114035   1.315789       356.0  3.122807   \n",
       "20637          1.7000      17.0  5.205543   1.120092      1007.0  2.325635   \n",
       "20638          1.8672      18.0  5.329513   1.171920       741.0  2.123209   \n",
       "20639          2.3886      16.0  5.254717   1.162264      1387.0  2.616981   \n",
       "\n",
       "----TAIL ----  latitude  longitude  target  \n",
       "20635             39.48    -121.09   0.781  \n",
       "20636             39.49    -121.21   0.771  \n",
       "20637             39.43    -121.22   0.923  \n",
       "20638             39.43    -121.32   0.847  \n",
       "20639             39.37    -121.24   0.894  "
      ]
     },
     "metadata": {},
     "output_type": "display_data"
    },
    {
     "name": "stdout",
     "output_type": "stream",
     "text": [
      "\n",
      "\n"
     ]
    }
   ],
   "source": [
    "EDA.first_tour.display(df)"
   ]
  },
  {
   "attachments": {},
   "cell_type": "markdown",
   "metadata": {},
   "source": [
    "## 2.2 Structure"
   ]
  },
  {
   "cell_type": "code",
   "execution_count": 25,
   "metadata": {},
   "outputs": [
    {
     "data": {
      "text/plain": [
       "'shape (20640, 9), memory 1.49MB'"
      ]
     },
     "metadata": {},
     "output_type": "display_data"
    },
    {
     "name": "stdout",
     "output_type": "stream",
     "text": [
      "\n",
      "\n"
     ]
    },
    {
     "data": {
      "text/plain": [
       "'---- FLO ----'"
      ]
     },
     "metadata": {},
     "output_type": "display_data"
    },
    {
     "data": {
      "text/html": [
       "<div>\n",
       "<style scoped>\n",
       "    .dataframe tbody tr th:only-of-type {\n",
       "        vertical-align: middle;\n",
       "    }\n",
       "\n",
       "    .dataframe tbody tr th {\n",
       "        vertical-align: top;\n",
       "    }\n",
       "\n",
       "    .dataframe thead th {\n",
       "        text-align: right;\n",
       "    }\n",
       "</style>\n",
       "<table border=\"1\" class=\"dataframe\">\n",
       "  <thead>\n",
       "    <tr style=\"text-align: right;\">\n",
       "      <th></th>\n",
       "      <th>cols</th>\n",
       "      <th>types</th>\n",
       "      <th>nan_sum</th>\n",
       "      <th>nan_mean</th>\n",
       "      <th>uniq_sum</th>\n",
       "      <th>uniq_rate</th>\n",
       "      <th>is_sku</th>\n",
       "      <th>val_rand_0</th>\n",
       "      <th>val_rand_1</th>\n",
       "      <th>val_rand_2</th>\n",
       "      <th>val_rand_3</th>\n",
       "      <th>val_rand_4</th>\n",
       "    </tr>\n",
       "  </thead>\n",
       "  <tbody>\n",
       "    <tr>\n",
       "      <th>0</th>\n",
       "      <td>medinc</td>\n",
       "      <td>float64</td>\n",
       "      <td>0</td>\n",
       "      <td>0.0</td>\n",
       "      <td>12928</td>\n",
       "      <td>0.63</td>\n",
       "      <td>False</td>\n",
       "      <td>2.9844</td>\n",
       "      <td>3.8171</td>\n",
       "      <td>3.6597</td>\n",
       "      <td>4.4000</td>\n",
       "      <td>4.2262</td>\n",
       "    </tr>\n",
       "    <tr>\n",
       "      <th>1</th>\n",
       "      <td>houseage</td>\n",
       "      <td>float64</td>\n",
       "      <td>0</td>\n",
       "      <td>0.0</td>\n",
       "      <td>52</td>\n",
       "      <td>0.00</td>\n",
       "      <td>False</td>\n",
       "      <td>50.0000</td>\n",
       "      <td>18.0000</td>\n",
       "      <td>21.0000</td>\n",
       "      <td>44.0000</td>\n",
       "      <td>37.0000</td>\n",
       "    </tr>\n",
       "    <tr>\n",
       "      <th>2</th>\n",
       "      <td>averooms</td>\n",
       "      <td>float64</td>\n",
       "      <td>0</td>\n",
       "      <td>0.0</td>\n",
       "      <td>19392</td>\n",
       "      <td>0.94</td>\n",
       "      <td>False</td>\n",
       "      <td>5.2609</td>\n",
       "      <td>5.1197</td>\n",
       "      <td>5.9621</td>\n",
       "      <td>4.6441</td>\n",
       "      <td>4.3624</td>\n",
       "    </tr>\n",
       "    <tr>\n",
       "      <th>3</th>\n",
       "      <td>avebedrms</td>\n",
       "      <td>float64</td>\n",
       "      <td>0</td>\n",
       "      <td>0.0</td>\n",
       "      <td>14233</td>\n",
       "      <td>0.69</td>\n",
       "      <td>False</td>\n",
       "      <td>1.0598</td>\n",
       "      <td>1.0437</td>\n",
       "      <td>1.1717</td>\n",
       "      <td>1.0169</td>\n",
       "      <td>0.9582</td>\n",
       "    </tr>\n",
       "    <tr>\n",
       "      <th>4</th>\n",
       "      <td>population</td>\n",
       "      <td>float64</td>\n",
       "      <td>0</td>\n",
       "      <td>0.0</td>\n",
       "      <td>3888</td>\n",
       "      <td>0.19</td>\n",
       "      <td>False</td>\n",
       "      <td>462.0000</td>\n",
       "      <td>5613.0000</td>\n",
       "      <td>1146.0000</td>\n",
       "      <td>480.0000</td>\n",
       "      <td>878.0000</td>\n",
       "    </tr>\n",
       "    <tr>\n",
       "      <th>5</th>\n",
       "      <td>aveoccup</td>\n",
       "      <td>float64</td>\n",
       "      <td>0</td>\n",
       "      <td>0.0</td>\n",
       "      <td>18841</td>\n",
       "      <td>0.91</td>\n",
       "      <td>False</td>\n",
       "      <td>2.5109</td>\n",
       "      <td>2.8844</td>\n",
       "      <td>2.8939</td>\n",
       "      <td>2.7119</td>\n",
       "      <td>3.0592</td>\n",
       "    </tr>\n",
       "    <tr>\n",
       "      <th>6</th>\n",
       "      <td>latitude</td>\n",
       "      <td>float64</td>\n",
       "      <td>0</td>\n",
       "      <td>0.0</td>\n",
       "      <td>862</td>\n",
       "      <td>0.04</td>\n",
       "      <td>False</td>\n",
       "      <td>37.7900</td>\n",
       "      <td>37.6300</td>\n",
       "      <td>34.1700</td>\n",
       "      <td>33.8800</td>\n",
       "      <td>37.6300</td>\n",
       "    </tr>\n",
       "    <tr>\n",
       "      <th>7</th>\n",
       "      <td>longitude</td>\n",
       "      <td>float64</td>\n",
       "      <td>0</td>\n",
       "      <td>0.0</td>\n",
       "      <td>844</td>\n",
       "      <td>0.04</td>\n",
       "      <td>False</td>\n",
       "      <td>-122.1900</td>\n",
       "      <td>-122.1000</td>\n",
       "      <td>-119.1700</td>\n",
       "      <td>-118.3500</td>\n",
       "      <td>-122.4100</td>\n",
       "    </tr>\n",
       "    <tr>\n",
       "      <th>8</th>\n",
       "      <td>target</td>\n",
       "      <td>float64</td>\n",
       "      <td>0</td>\n",
       "      <td>0.0</td>\n",
       "      <td>3842</td>\n",
       "      <td>0.19</td>\n",
       "      <td>False</td>\n",
       "      <td>1.7990</td>\n",
       "      <td>1.8720</td>\n",
       "      <td>1.9510</td>\n",
       "      <td>2.2580</td>\n",
       "      <td>2.2850</td>\n",
       "    </tr>\n",
       "  </tbody>\n",
       "</table>\n",
       "</div>"
      ],
      "text/plain": [
       "         cols    types  nan_sum  nan_mean  uniq_sum  uniq_rate  is_sku   \n",
       "0      medinc  float64        0       0.0     12928       0.63   False  \\\n",
       "1    houseage  float64        0       0.0        52       0.00   False   \n",
       "2    averooms  float64        0       0.0     19392       0.94   False   \n",
       "3   avebedrms  float64        0       0.0     14233       0.69   False   \n",
       "4  population  float64        0       0.0      3888       0.19   False   \n",
       "5    aveoccup  float64        0       0.0     18841       0.91   False   \n",
       "6    latitude  float64        0       0.0       862       0.04   False   \n",
       "7   longitude  float64        0       0.0       844       0.04   False   \n",
       "8      target  float64        0       0.0      3842       0.19   False   \n",
       "\n",
       "   val_rand_0  val_rand_1  val_rand_2  val_rand_3  val_rand_4  \n",
       "0      2.9844      3.8171      3.6597      4.4000      4.2262  \n",
       "1     50.0000     18.0000     21.0000     44.0000     37.0000  \n",
       "2      5.2609      5.1197      5.9621      4.6441      4.3624  \n",
       "3      1.0598      1.0437      1.1717      1.0169      0.9582  \n",
       "4    462.0000   5613.0000   1146.0000    480.0000    878.0000  \n",
       "5      2.5109      2.8844      2.8939      2.7119      3.0592  \n",
       "6     37.7900     37.6300     34.1700     33.8800     37.6300  \n",
       "7   -122.1900   -122.1000   -119.1700   -118.3500   -122.4100  \n",
       "8      1.7990      1.8720      1.9510      2.2580      2.2850  "
      ]
     },
     "metadata": {},
     "output_type": "display_data"
    }
   ],
   "source": [
    "EDA.first_tour.info(df)"
   ]
  },
  {
   "cell_type": "code",
   "execution_count": 29,
   "metadata": {},
   "outputs": [
    {
     "data": {
      "text/plain": [
       "float64    9\n",
       "Name: count, dtype: int64"
      ]
     },
     "execution_count": 29,
     "metadata": {},
     "output_type": "execute_result"
    }
   ],
   "source": [
    "df.dtypes.value_counts()"
   ]
  },
  {
   "cell_type": "code",
   "execution_count": null,
   "metadata": {},
   "outputs": [],
   "source": []
  },
  {
   "attachments": {},
   "cell_type": "markdown",
   "metadata": {},
   "source": [
    "## 2.3 NaN and duplicated"
   ]
  },
  {
   "cell_type": "code",
   "execution_count": 33,
   "metadata": {},
   "outputs": [
    {
     "data": {
      "image/png": "[encoded data removed]",
      "text/plain": [
       "<Figure size 2500x1000 with 2 Axes>"
      ]
     },
     "metadata": {},
     "output_type": "display_data"
    }
   ],
   "source": [
    "EDA.nan.viz(df)"
   ]
  },
  {
   "cell_type": "code",
   "execution_count": 34,
   "metadata": {},
   "outputs": [
    {
     "ename": "TypeError",
     "evalue": "isna() got an unexpected keyword argument 'axis'",
     "output_type": "error",
     "traceback": [
      "\u001b[0;31m---------------------------------------------------------------------------\u001b[0m",
      "\u001b[0;31mTypeError\u001b[0m                                 Traceback (most recent call last)",
      "Cell \u001b[0;32mIn[34], line 1\u001b[0m\n\u001b[0;32m----> 1\u001b[0m EDA\u001b[39m.\u001b[39;49mnan\u001b[39m.\u001b[39;49mrate(df)\n",
      "File \u001b[0;32m~/gargaml/gargaml/eda/nan.py:36\u001b[0m, in \u001b[0;36mNan.rate\u001b[0;34m(cls, df, threshold, axis)\u001b[0m\n\u001b[1;32m     27\u001b[0m \u001b[39m@classmethod\u001b[39m\n\u001b[1;32m     28\u001b[0m \u001b[39mdef\u001b[39;00m \u001b[39mrate\u001b[39m(\n\u001b[1;32m     29\u001b[0m     \u001b[39mcls\u001b[39m,\n\u001b[0;32m   (...)\u001b[0m\n\u001b[1;32m     32\u001b[0m     axis\u001b[39m=\u001b[39m\u001b[39m0\u001b[39m,\n\u001b[1;32m     33\u001b[0m ):\n\u001b[1;32m     34\u001b[0m \u001b[39m    \u001b[39m\u001b[39m\"\"\"filter cols by nan rate > threshold\"\"\"\u001b[39;00m\n\u001b[0;32m---> 36\u001b[0m     tmp \u001b[39m=\u001b[39m df\u001b[39m.\u001b[39;49misna(axis\u001b[39m=\u001b[39;49maxis)\u001b[39m.\u001b[39mmean()\u001b[39m.\u001b[39msort_values(ascending\u001b[39m=\u001b[39m\u001b[39mFalse\u001b[39;00m)\n\u001b[1;32m     37\u001b[0m     tmp \u001b[39m=\u001b[39m tmp[tmp \u001b[39m>\u001b[39m\u001b[39m=\u001b[39m threshold]\n\u001b[1;32m     38\u001b[0m     \u001b[39mreturn\u001b[39;00m tmp\u001b[39m.\u001b[39mround(\u001b[39m3\u001b[39m)\n",
      "\u001b[0;31mTypeError\u001b[0m: isna() got an unexpected keyword argument 'axis'"
     ]
    }
   ],
   "source": [
    "EDA.nan.rate(df)"
   ]
  },
  {
   "cell_type": "code",
   "execution_count": null,
   "metadata": {},
   "outputs": [],
   "source": []
  },
  {
   "cell_type": "code",
   "execution_count": 31,
   "metadata": {},
   "outputs": [
    {
     "data": {
      "text/plain": [
       "0"
      ]
     },
     "execution_count": 31,
     "metadata": {},
     "output_type": "execute_result"
    }
   ],
   "source": [
    "df.duplicated().sum()"
   ]
  },
  {
   "cell_type": "markdown",
   "metadata": {},
   "source": [
    "## 2.x"
   ]
  },
  {
   "cell_type": "code",
   "execution_count": null,
   "metadata": {},
   "outputs": [],
   "source": []
  }
 ],
 "metadata": {
  "kernelspec": {
   "display_name": "env",
   "language": "python",
   "name": "python3"
  },
  "language_info": {
   "codemirror_mode": {
    "name": "ipython",
    "version": 3
   },
   "file_extension": ".py",
   "mimetype": "text/x-python",
   "name": "python",
   "nbconvert_exporter": "python",
   "pygments_lexer": "ipython3",
   "version": "3.9.16"
  },
  "orig_nbformat": 4
 },
 "nbformat": 4,
 "nbformat_minor": 2
}
